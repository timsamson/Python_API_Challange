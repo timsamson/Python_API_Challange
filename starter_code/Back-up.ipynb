{
 "cells": [
  {
   "cell_type": "markdown",
   "metadata": {},
   "source": [
    "# WeatherPy\n",
    "----\n",
    "\n",
    "#### Note\n",
    "* Instructions have been included for each segment. You do not have to follow them exactly, but they are included to help you think through the steps."
   ]
  },
  {
   "cell_type": "code",
   "execution_count": 1,
   "metadata": {
    "scrolled": true
   },
   "outputs": [
    {
     "name": "stdout",
     "output_type": "stream",
     "text": [
      "dc0d70b879e0f386f28168386e95eb93\n"
     ]
    }
   ],
   "source": [
    "# Dependencies and Setup\n",
    "import matplotlib.pyplot as plt\n",
    "import pandas as pd\n",
    "import numpy as np\n",
    "import requests\n",
    "import time\n",
    "from scipy.stats import linregress\n",
    "\n",
    "# Import API key\n",
    "from api_keys import weather_api_key\n",
    "\n",
    "# Incorporated citipy to determine city based on latitude and longitude\n",
    "from citipy import citipy\n",
    "\n",
    "# Output File (CSV)\n",
    "output_data_file = \"output_data/cities.csv\"\n",
    "\n",
    "# Range of latitudes and longitudes\n",
    "lat_range = (-90, 90)\n",
    "lng_range = (-180, 180)\n",
    "\n",
    "print(weather_api_key)"
   ]
  },
  {
   "cell_type": "markdown",
   "metadata": {},
   "source": [
    "## Generate Cities List"
   ]
  },
  {
   "cell_type": "code",
   "execution_count": 4,
   "metadata": {},
   "outputs": [
    {
     "name": "stdout",
     "output_type": "stream",
     "text": [
      "['jamestown', 'albany', 'avarua', 'abu dhabi', 'cherskiy', 'vostok', 'georgetown', 'warqla', 'bethel', 'mayumba', 'sorland', 'port elizabeth', 'mataura', 'ribeira grande', 'tuktoyaktuk', 'mount gambier', 'guerrero negro', 'qaanaaq', 'torbay', 'sobolevo', 'taolanaro', 'kieta', 'bengkulu', 'thompson', 'nortelandia', 'dohar', 'labuhan', 'saint-philippe', 'hobart', 'mount isa', 'bluff', 'progreso', 'punta arenas', 'chokurdakh', 'illoqqortoormiut', 'bambous virieux', 'khash', 'fortuna', 'attawapiskat', 'juba', 'atuona', 'sorvag', 'pauini', 'skibbereen', 'vaini', 'saldanha', 'rikitea', 'barentsburg', 'mitsamiouli', 'arraial do cabo', 'takoradi', 'mys shmidta', 'kosa', 'vanimo', 'vila velha', 'port lincoln', 'fano', 'ushuaia', 'narsaq', 'kapaa', 'castro', 'sisimiut', 'muli', 'cape town', 'katsuura', 'samusu', 'takahagi', 'san patricio', 'havoysund', 'airai', 'port augusta', 'kavaratti', 'karratha', 'banepa', 'buriti dos lopes', 'sindor', 'east london', 'butaritari', 'busselton', 'richards bay', 'victoria', 'mahebourg', 'upernavik']\n"
     ]
    }
   ],
   "source": [
    "# List for holding lat_lngs and cities\n",
    "lat_lngs = []\n",
    "cities = []\n",
    "\n",
    "# Create a set of random lat and lng combinations\n",
    "#lats = np.random.uniform(lat_range[0], lat_range[1], size=1500)\n",
    "#lngs = np.random.uniform(lng_range[0], lng_range[1], size=1500)\n",
    "\n",
    "#Sample Set\n",
    "lats = np.random.uniform(lat_range[0], lat_range[1], size=100)\n",
    "lngs = np.random.uniform(lng_range[0], lng_range[1], size=100)\n",
    "\n",
    "lat_lngs = zip(lats, lngs)\n",
    "\n",
    "# Identify nearest city for each lat, lng combination\n",
    "for lat_lng in lat_lngs:\n",
    "    city = citipy.nearest_city(lat_lng[0], lat_lng[1]).city_name\n",
    "    \n",
    "    # If the city is unique, then add it to a our cities list\n",
    "    if city not in cities:\n",
    "        cities.append(city)\n",
    "print(cities)\n",
    "# Print the city count to confirm sufficient count\n",
    "#len(cities)"
   ]
  },
  {
   "cell_type": "markdown",
   "metadata": {},
   "source": [
    "## Perform API Calls\n",
    "* Perform a weather check on each city using a series of successive API calls.\n",
    "* Include a print log of each city as it'sbeing processed (with the city number and city name).\n"
   ]
  },
  {
   "cell_type": "code",
   "execution_count": 5,
   "metadata": {
    "scrolled": true
   },
   "outputs": [
    {
     "name": "stdout",
     "output_type": "stream",
     "text": [
      "Processing API calls from Open Weather\n",
      "jamestown was found in weather data\n",
      "albany was found in weather data\n",
      "avarua was found in weather data\n",
      "abu dhabi was found in weather data\n",
      "cherskiy was found in weather data\n",
      "vostok was found in weather data\n",
      "georgetown was found in weather data\n",
      "warqla not found. Skipping...\n",
      "bethel was found in weather data\n",
      "mayumba was found in weather data\n",
      "sorland was found in weather data\n",
      "port elizabeth was found in weather data\n",
      "mataura was found in weather data\n",
      "ribeira grande was found in weather data\n",
      "tuktoyaktuk was found in weather data\n",
      "mount gambier was found in weather data\n",
      "guerrero negro was found in weather data\n",
      "qaanaaq was found in weather data\n",
      "torbay was found in weather data\n",
      "sobolevo was found in weather data\n",
      "taolanaro not found. Skipping...\n",
      "kieta was found in weather data\n",
      "bengkulu was found in weather data\n",
      "thompson was found in weather data\n",
      "nortelandia was found in weather data\n",
      "dohar was found in weather data\n",
      "labuhan was found in weather data\n",
      "saint-philippe was found in weather data\n",
      "hobart was found in weather data\n",
      "mount isa was found in weather data\n",
      "bluff was found in weather data\n",
      "progreso was found in weather data\n",
      "punta arenas was found in weather data\n",
      "chokurdakh was found in weather data\n",
      "illoqqortoormiut not found. Skipping...\n",
      "bambous virieux was found in weather data\n",
      "khash was found in weather data\n",
      "fortuna was found in weather data\n",
      "attawapiskat not found. Skipping...\n",
      "juba was found in weather data\n",
      "atuona was found in weather data\n",
      "sorvag not found. Skipping...\n",
      "pauini was found in weather data\n",
      "skibbereen was found in weather data\n",
      "vaini was found in weather data\n",
      "saldanha was found in weather data\n",
      "rikitea was found in weather data\n",
      "barentsburg not found. Skipping...\n",
      "mitsamiouli was found in weather data\n",
      "arraial do cabo was found in weather data\n",
      "takoradi was found in weather data\n",
      "mys shmidta not found. Skipping...\n",
      "kosa was found in weather data\n",
      "vanimo was found in weather data\n",
      "vila velha was found in weather data\n",
      "port lincoln was found in weather data\n",
      "fano was found in weather data\n",
      "ushuaia was found in weather data\n",
      "narsaq was found in weather data\n",
      "kapaa was found in weather data\n",
      "castro was found in weather data\n",
      "sisimiut was found in weather data\n",
      "muli was found in weather data\n",
      "cape town was found in weather data\n",
      "katsuura was found in weather data\n",
      "samusu not found. Skipping...\n",
      "takahagi was found in weather data\n",
      "san patricio was found in weather data\n",
      "havoysund was found in weather data\n",
      "airai was found in weather data\n",
      "port augusta was found in weather data\n",
      "kavaratti was found in weather data\n",
      "karratha was found in weather data\n",
      "banepa was found in weather data\n",
      "buriti dos lopes was found in weather data\n",
      "sindor was found in weather data\n",
      "east london was found in weather data\n",
      "butaritari was found in weather data\n",
      "busselton was found in weather data\n",
      "richards bay was found in weather data\n",
      "victoria was found in weather data\n",
      "mahebourg was found in weather data\n",
      "upernavik was found in weather data\n",
      "End of City list\n"
     ]
    }
   ],
   "source": [
    "# Create a base url\n",
    "base_url = \"http://api.openweathermap.org/data/2.5/weather?units=imperial&appid=\" + weather_api_key\n",
    "#print(base_url)\n",
    "\n",
    "# Create the lists to hold relative data\n",
    "found_cities =[]\n",
    "cloudiness = []\n",
    "country = []\n",
    "date = []\n",
    "humidity = []\n",
    "lat = []\n",
    "lng = []\n",
    "max_temp = []\n",
    "wind_speed = []\n",
    "\n",
    "# Create a query url for each city in the cities list to get json response\n",
    "\n",
    "print(\"Processing API calls from Open Weather\")\n",
    "for city in cities:\n",
    "    \n",
    "    time.sleep(1)\n",
    "         \n",
    "    # Create API url for each city\n",
    "    query_url = base_url +\"&q=\" + city\n",
    "    \n",
    "    # Get json respose for each city\n",
    "    response = requests.get(query_url).json()\n",
    "\n",
    "   # Add the values to the lists\n",
    "    try:       \n",
    "        found_cities.append(response[\"name\"])\n",
    "        cloudiness.append(response[\"clouds\"][\"all\"])\n",
    "        country.append(response[\"sys\"][\"country\"])\n",
    "        date.append(response[\"dt\"])\n",
    "        humidity.append(response[\"main\"][\"humidity\"])\n",
    "        lat.append(response[\"coord\"][\"lat\"])\n",
    "        lng.append(response[\"coord\"][\"lon\"])\n",
    "        max_temp.append(response[\"main\"][\"temp_max\"])\n",
    "        wind_speed.append(response[\"wind\"][\"speed\"])\n",
    "\n",
    "        print(f\"{city} was found in weather data\") \n",
    "        \n",
    "    except KeyError:\n",
    "        print(f\"{city} not found. Skipped\")\n",
    "        pass\n",
    "        \n",
    "print(\"End of City list\")\n",
    "\n"
   ]
  },
  {
   "cell_type": "code",
   "execution_count": 6,
   "metadata": {},
   "outputs": [],
   "source": [
    "#Create Dictionary\n",
    "\n",
    "weather_raw_data = {\n",
    "    \"City\": found_cities,\n",
    "    \"Latitude\": lat,\n",
    "    \"Lng\": lng,\n",
    "    \"Cloudiness\": cloudiness,\n",
    "    \"Country\": country,\n",
    "    \"Date\": date,\n",
    "    \"Humidity\": humidity,\n",
    "    \"Max Temp\": max_temp,\n",
    "    \"Wind Speed\": wind_speed,\n",
    "    \"Date\":date\n",
    "    }\n",
    "\n",
    "#Create Data Frame\n",
    "weather_df = pd.DataFrame.from_dict(weather_raw_data, orient= 'columns')\n",
    "weather_df\n",
    "\n",
    "#export to cs\n",
    "weather_df.to_csv(\"output_data/cities.csv\", index = False)"
   ]
  },
  {
   "cell_type": "markdown",
   "metadata": {},
   "source": [
    "## Plotting the Data\n",
    "* Use proper labeling of the plots using plot titles (including date of analysis) and axes labels.\n",
    "* Save the plotted figures as .pngs."
   ]
  },
  {
   "cell_type": "markdown",
   "metadata": {},
   "source": [
    "### Latitude vs. Temperature Plot"
   ]
  },
  {
   "cell_type": "code",
   "execution_count": 16,
   "metadata": {
    "scrolled": true
   },
   "outputs": [
    {
     "data": {
      "image/png": "[encoded data removed]",
      "text/plain": [
       "<Figure size 432x288 with 1 Axes>"
      ]
     },
     "metadata": {
      "needs_background": "light"
     },
     "output_type": "display_data"
    }
   ],
   "source": [
    "plt.scatter(weather_df[\"Latitude\"],weather_df[\"Max Temp\"],edgecolors=\"black\",facecolors=\"steelblue\")\n",
    "plt.title(f\"City Latitude vs. Max Temperature {date}\")\n",
    "plt.xlabel(\"Latitude\")\n",
    "plt.ylabel(\"Max Temperature (F)\")\n",
    "plt.grid (b=True,which=\"major\",axis=\"both\",linestyle=\"-\",color=\"lightgrey\")\n",
    "plt.savefig(f\"{plt.title}.png\")"
   ]
  },
  {
   "cell_type": "markdown",
   "metadata": {},
   "source": [
    "### Latitude vs. Humidity Plot"
   ]
  },
  {
   "cell_type": "code",
   "execution_count": 17,
   "metadata": {},
   "outputs": [
    {
     "data": {
      "image/png": "[encoded data removed]",
      "text/plain": [
       "<Figure size 432x288 with 1 Axes>"
      ]
     },
     "metadata": {
      "needs_background": "light"
     },
     "output_type": "display_data"
    }
   ],
   "source": [
    "plt.scatter(weather_df[\"Latitude\"],weather_df[\"Humidity\"],edgecolors=\"black\",facecolors=\"steelblue\")\n",
    "plt.title(f\"City Latitude vs. Humuduty {date}\")\n",
    "plt.xlabel(\"Latitude\")\n",
    "plt.ylabel(\"Max Humidity\")\n",
    "plt.savefig(f\"{plt.title}.png\")"
   ]
  },
  {
   "cell_type": "markdown",
   "metadata": {},
   "source": [
    "### Latitude vs. Cloudiness Plot"
   ]
  },
  {
   "cell_type": "code",
   "execution_count": null,
   "metadata": {},
   "outputs": [],
   "source": []
  },
  {
   "cell_type": "markdown",
   "metadata": {},
   "source": [
    "### Latitude vs. Wind Speed Plot"
   ]
  },
  {
   "cell_type": "code",
   "execution_count": null,
   "metadata": {},
   "outputs": [],
   "source": []
  },
  {
   "cell_type": "markdown",
   "metadata": {},
   "source": [
    "## Linear Regression"
   ]
  },
  {
   "cell_type": "markdown",
   "metadata": {},
   "source": [
    "### Write linear regression plot function (optional)"
   ]
  },
  {
   "cell_type": "code",
   "execution_count": null,
   "metadata": {},
   "outputs": [],
   "source": []
  },
  {
   "cell_type": "markdown",
   "metadata": {},
   "source": [
    "###  Northern Hemisphere - Max Temp vs. Latitude Linear Regression"
   ]
  },
  {
   "cell_type": "code",
   "execution_count": null,
   "metadata": {},
   "outputs": [],
   "source": []
  },
  {
   "cell_type": "markdown",
   "metadata": {},
   "source": [
    "###  Southern Hemisphere - Max Temp vs. Latitude Linear Regression"
   ]
  },
  {
   "cell_type": "code",
   "execution_count": null,
   "metadata": {},
   "outputs": [],
   "source": []
  },
  {
   "cell_type": "markdown",
   "metadata": {},
   "source": [
    "###  Northern Hemisphere - Humidity (%) vs. Latitude Linear Regression"
   ]
  },
  {
   "cell_type": "code",
   "execution_count": null,
   "metadata": {},
   "outputs": [],
   "source": []
  },
  {
   "cell_type": "markdown",
   "metadata": {},
   "source": [
    "###  Southern Hemisphere - Humidity (%) vs. Latitude Linear Regression"
   ]
  },
  {
   "cell_type": "code",
   "execution_count": null,
   "metadata": {},
   "outputs": [],
   "source": []
  },
  {
   "cell_type": "markdown",
   "metadata": {},
   "source": [
    "###  Northern Hemisphere - Cloudiness (%) vs. Latitude Linear Regression"
   ]
  },
  {
   "cell_type": "code",
   "execution_count": null,
   "metadata": {},
   "outputs": [],
   "source": []
  },
  {
   "cell_type": "markdown",
   "metadata": {},
   "source": [
    "###  Southern Hemisphere - Cloudiness (%) vs. Latitude Linear Regression"
   ]
  },
  {
   "cell_type": "code",
   "execution_count": null,
   "metadata": {},
   "outputs": [],
   "source": []
  },
  {
   "cell_type": "markdown",
   "metadata": {},
   "source": [
    "###  Northern Hemisphere - Wind Speed (mph) vs. Latitude Linear Regression"
   ]
  },
  {
   "cell_type": "code",
   "execution_count": null,
   "metadata": {},
   "outputs": [],
   "source": []
  },
  {
   "cell_type": "markdown",
   "metadata": {},
   "source": [
    "###  Southern Hemisphere - Wind Speed (mph) vs. Latitude Linear Regression"
   ]
  },
  {
   "cell_type": "code",
   "execution_count": null,
   "metadata": {},
   "outputs": [],
   "source": []
  },
  {
   "cell_type": "code",
   "execution_count": null,
   "metadata": {},
   "outputs": [],
   "source": []
  },
  {
   "cell_type": "code",
   "execution_count": null,
   "metadata": {},
   "outputs": [],
   "source": []
  }
 ],
 "metadata": {
  "anaconda-cloud": {},
  "kernel_info": {
   "name": "python3"
  },
  "kernelspec": {
   "display_name": "Python 3",
   "language": "python",
   "name": "python3"
  },
  "language_info": {
   "codemirror_mode": {
    "name": "ipython",
    "version": 3
   },
   "file_extension": ".py",
   "mimetype": "text/x-python",
   "name": "python",
   "nbconvert_exporter": "python",
   "pygments_lexer": "ipython3",
   "version": "3.8.5"
  },
  "latex_envs": {
   "LaTeX_envs_menu_present": true,
   "autoclose": false,
   "autocomplete": true,
   "bibliofile": "biblio.bib",
   "cite_by": "apalike",
   "current_citInitial": 1,
   "eqLabelWithNumbers": true,
   "eqNumInitial": 1,
   "hotkeys": {
    "equation": "Ctrl-E",
    "itemize": "Ctrl-I"
   },
   "labels_anchors": false,
   "latex_user_defs": false,
   "report_style_numbering": false,
   "user_envs_cfg": false
  },
  "nteract": {
   "version": "0.12.3"
  },
  "toc": {
   "base_numbering": 1,
   "nav_menu": {},
   "number_sections": true,
   "sideBar": true,
   "skip_h1_title": false,
   "title_cell": "Table of Contents",
   "title_sidebar": "Contents",
   "toc_cell": false,
   "toc_position": {},
   "toc_section_display": true,
   "toc_window_display": false
  },
  "varInspector": {
   "cols": {
    "lenName": 16,
    "lenType": 16,
    "lenVar": 40
   },
   "kernels_config": {
    "python": {
     "delete_cmd_postfix": "",
     "delete_cmd_prefix": "del ",
     "library": "var_list.py",
     "varRefreshCmd": "print(var_dic_list())"
    },
    "r": {
     "delete_cmd_postfix": ") ",
     "delete_cmd_prefix": "rm(",
     "library": "var_list.r",
     "varRefreshCmd": "cat(var_dic_list()) "
    }
   },
   "types_to_exclude": [
    "module",
    "function",
    "builtin_function_or_method",
    "instance",
    "_Feature"
   ],
   "window_display": false
  }
 },
 "nbformat": 4,
 "nbformat_minor": 2
}

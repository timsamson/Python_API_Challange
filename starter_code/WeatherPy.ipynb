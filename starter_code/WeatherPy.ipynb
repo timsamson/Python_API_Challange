{
 "cells": [
  {
   "cell_type": "markdown",
   "metadata": {},
   "source": [
    "# WeatherPy\n",
    "----\n",
    "\n",
    "#### Note\n",
    "* Instructions have been included for each segment. You do not have to follow them exactly, but they are included to help you think through the steps."
   ]
  },
  {
   "cell_type": "code",
   "execution_count": 124,
   "metadata": {
    "scrolled": true
   },
   "outputs": [],
   "source": [
    "# Dependencies and Setup\n",
    "import matplotlib.pyplot as plt\n",
    "import pandas as pd\n",
    "import numpy as np\n",
    "import requests\n",
    "import time\n",
    "from datetime import datetime\n",
    "import scipy.stats as st\n",
    "from scipy.stats import linregress\n",
    "\n",
    "# Import API key\n",
    "from api_keys import weather_api_key\n",
    "\n",
    "# Incorporated citipy to determine city based on latitude and longitude\n",
    "from citipy import citipy\n",
    "\n",
    "# Output File (CSV)\n",
    "output_data_file = \"output_data/cities.csv\"\n",
    "\n",
    "# Range of latitudes and longitudes\n",
    "lat_range = (-90, 90)\n",
    "lng_range = (-180, 180)\n"
   ]
  },
  {
   "cell_type": "markdown",
   "metadata": {},
   "source": [
    "## Generate Cities List"
   ]
  },
  {
   "cell_type": "code",
   "execution_count": 91,
   "metadata": {},
   "outputs": [
    {
     "name": "stdout",
     "output_type": "stream",
     "text": [
      "['longyearbyen', 'karakol', 'mount pleasant', 'bluff', 'atuona', 'marzuq', 'east london', 'ksenyevka', 'tasiilaq', 'busselton', 'saskylakh', 'venado tuerto', 'hilo', 'talcahuano', 'punta arenas', 'urdzhar', 'port alfred', 'ler', 'rawson', 'atasu', 'castro', 'jijiang', 'codrington', 'mega', 'bengkulu', 'severo-kurilsk', 'grand gaube', 'nizhneyansk', 'avarua', 'albany', 'illoqqortoormiut', 'springbok', 'yerbogachen', 'kapaa', 'tougue', 'tiksi', 'cape town', 'artyom', 'annau', 'puerto ayora', 'isangel', 'bambous virieux', 'rajo khanani', 'saint-philippe', 'tommot', 'aksu', 'souillac', 'hermanus', 'colquechaca', 'ushuaia', 'hovd', 'viedma', 'mataura', 'rikitea', 'desaguadero', 'nikolskoye', 'kamenskoye', 'constitucion', 'manicore', 'horta', 'grand river south east', 'mar del plata', 'narsaq', 'abalak', 'ipixuna', 'rabo de peixe', 'hobart', 'qaanaaq', 'mys shmidta', 'marcona', 'victoria', 'amderma', 'flinders', 'dikson', 'bandarbeyla', 'arman', 'homer', 'tuktoyaktuk', 'avera', 'chapais', 'port shepstone', 'broome', 'vaini', 'hithadhoo', 'cidreira', 'xining', 'faridpur', 'comodoro rivadavia', 'yellowknife', 'illapel', 'butaritari', 'makakilo city', 'bethel', 'khatanga', 'hervey bay', 'suntar', 'taolanaro', 'vardo', 'acajutla', 'bolu', 'dunedin', 'christchurch', 'kutahya', 'wajir', 'amahai', 'barentsburg', 'aguia branca', 'puerto carreno', 'beringovskiy', 'tarakan', 'ribeira grande', 'merauke', 'baixa grande', 'ponta do sol', 'ketchikan', 'salalah', 'umzimvubu', 'whyalla', 'torbay', 'hualmay', 'georgetown', 'mayo', 'tamandare', 'bredasdorp', 'barrow', 'thompson', 'tsihombe', 'buriti alegre', 'arraial do cabo', 'jamestown', 'uwayl', 'eyl', 'zhezkazgan', 'arcos', 'burnie', 'baruun-urt', 'mujiayingzi', 'keti bandar', 'redmond', 'jalu', 'port elizabeth', 'sri aman', 'esqueda', 'mwene-ditu', 'norman wells', 'rock sound', 'chuy', 'belushya guba', 'kindu', 'fairbanks', 'saldanha', 'goycay', 'saleaula', 'svetlyy', 'new norfolk', 'sahrak', 'flagstaff', 'karratha', 'baraboo', 'saint-georges', 'provideniya', 'sitka', 'lebu', 'kegayli', 'ahipara', 'oltu', 'orange', 'tazovskiy', 'ilulissat', 'daru', 'kabinda', 'santa rosalia', 'erzin', 'orbetello', 'bandrele', 'lethem', 'portage', 'ibra', 'bereda', 'zinder', 'great falls', 'san quintin', 'boulsa', 'chokurdakh', 'qasigiannguit', 'kloulklubed', 'tuatapere', 'namtsy', 'zhangye', 'barra do garcas', 'ornskoldsvik', 'buenavista', 'nara', 'rungata', 'upernavik', 'kavieng', 'kodiak', 'carnarvon', 'pozo colorado', 'armidale', 'bud', 'liverpool', 'smithers', 'west bay', 'verkhoyansk', 'nizwa', 'airai', 'san policarpo', 'buta', 'pevek', 'nanortalik', 'kalmunai', 'komsomolets', 'moen', 'coquimbo', 'taoudenni', 'maumere', 'inuvik', 'biloela', 'pilao arcado', 'geraldton', 'ayorou', 'irbit', 'warman', 'saint-francois', 'riberalta', 'bahia honda', 'russell', 'maturin', 'muroto', 'otorohanga', 'ambulu', 'porto novo', 'merzifon', 'lewisporte', 'trinidad', 'stephenville', 'remiremont', 'price', 'hasaki', 'hay river', 'tautira', 'san clemente', 'marsaxlokk', 'arlit', 'houma', 'bilibino', 'raudeberg', 'kirakira', 'madang', 'maniitsoq', 'touros', 'yar-sale', 'katherine', 'anadyr', 'mareeba', 'bowen', 'vikhorevka', 'moba', 'lolua', 'kilembe', 'zeya', 'luanda', 'kenai', 'qandala', 'olafsvik', 'bubaque', 'lappeenranta', 'port blair', 'galle', 'roald', 'adrar', 'port hedland', 'bathsheba', 'axim', 'kaitangata', 'kusk', 'bilma', 'cap malheureux', 'umm lajj', 'caceres', 'colares', 'praia da vitoria', 'thinadhoo', 'palabuhanratu', 'ust-maya', 'itarema', 'mount gambier', 'mahebourg', 'moi', 'tecoanapa', 'korla', 'ixtapa', 'aksarka', 'sechura', 'olovyannaya', 'mamallapuram', 'kondinskoye', 'sao filipe', 'haines junction', 'nagorsk', 'tiarei', 'kruisfontein', 'gushikawa', 'dafeng', 'hami', 'mount vernon', 'nargana', 'hamilton', 'aklavik', 'upington', 'ternate', 'samarai', 'jiazi', 'watertown', 'kpandu', 'kachug', 'havoysund', 'sterling', 'sur', 'wahran', 'talnakh', 'mehamn', 'laguna', 'faanui', 'katsuura', 'vila velha', 'washougal', 'lagoa', 'camacha', 'sainte-rose', 'coruripe', 'klaksvik', 'fortuna', 'coral springs', 'lata', 'barbar', 'cherskiy', 'gat', 'linqiong', 'aykhal', 'puerto colombia', 'moose factory', 'muros', 'kamaishi', 'george', 'buraydah', 'toba', 'handan', 'shubarshi', 'calawag', 'locri', 'mandi bahauddin', 'kavaratti', 'coihaique', 'inderborskiy', 'lhokseumawe', 'umm kaddadah', 'gushi', 'santa cruz', 'te anau', 'neiafu', 'lashio', 'nelson bay', 'malinovskiy', 'passage west', 'parabel', 'gazanjyk', 'eldikan', 'canar', 'gannan', 'huarmey', 'ishigaki', 'niquero', 'vaitupu', 'guaymas', 'moiyabana', 'yilan', 'nemuro', 'paradwip', 'aflu', 'iqaluit', 'frontera', 'sens', 'kholm', 'tecalco', 'pangai', 'warqla', 'nizhniy tsasuchey', 'harrisonville', 'balakhninskiy', 'cabo san lucas', 'meerhout', 'cayenne', 'veraval', 'kentau', 'george town', 'olivehurst', 'bonavista', 'srivardhan', 'qurayyat', 'biltine', 'bara', 'ereymentau', 'port-cartier', 'campos do jordao', 'genhe', 'yingzhong', 'opuwo', 'togul', 'bambanglipuro', 'batemans bay', 'guarapari', 'marabba', 'sao jose da coroa grande', 'akdepe', 'heiligenhafen', 'nouadhibou', 'hofn', 'araouane', 'saint stephen', 'warrington', 'kargasok', 'mana', 'husavik', 'trofors', 'santa fe', 'marawi', 'atbasar', 'denpasar', 'santo tomas', 'shatsk', 'yuzhno-yeniseyskiy', 'santa rosa', 'truckee', 'sentyabrskiy', 'malwan', 'attawapiskat', 'vostok', 'huayang', 'praia', 'gwadar', 'san patricio', 'saint-pierre', 'san pedro', 'guerrero negro', 'panalingaan', 'los altos', 'sao joao da barra', 'maisyan', 'auki', 'suzhou', 'lodja', 'koboldo', 'salaga', 'ravar', 'goundam', 'ndele', 'olga', 'plettenberg bay', 'kabalo', 'kamenka', 'viransehir', 'vung tau', 'pacific grove', 'shirokiy', 'zachagansk', 'alenquer', 'murree', 'daxian', 'tual', 'pisco', 'karkaralinsk', 'rivadavia', 'waipawa', 'micco', 'bosaso', 'kaliganj', 'matara', 'alofi', 'terrace', 'vanavara', 'truth or consequences', 'turinskaya sloboda', 'marsa matruh', 'ostrovnoy', 'margate', 'sayat', 'rajpur', 'anloga', 'ajaccio', 'khuzdar', 'santa maria', 'zharkent', 'san jeronimo', 'ntcheu', 'tomakomai', 'raga', 'preobrazheniye', 'balaipungut', 'port macquarie', 'smirnykh', 'garden city', 'san luis', 'abu dhabi', 'saint george', 'ibateguara', 'manokwari', 'san felipe', 'nioro', 'komatipoort', 'palmer', 'kaman', 'chepareria', 'quelimane', 'havre-saint-pierre', 'los llanos de aridane', 'aswan', 'meulaboh', 'tera', 'quatre cocos', 'udachnyy', 'ballina', 'abha', 'stepnyak', 'monrovia', 'eureka', 'manzil salim', 'puerto princesa', 'ust-tsilma', 'saurimo', 'tubuala', 'paracuru', 'port lincoln', 'ngunguru', 'tromso', 'bakonycsernye', 'kishtwar', 'padang', 'taicheng', 'dzhusaly', 'yomitan', 'kushima', 'temeni', 'tabiauea', 'totoral', 'phan rang', 'pochutla', 'la rioja', 'aguimes', 'tessalit', 'talah', 'bukachacha', 'nome', 'huaiyin', 'obodivka', 'mouzakion', 'ouesso', 'norwich', 'nhulunbuy', 'atambua', 'lorengau', 'lavrentiya', 'gao', 'ayagoz', 'nogent-le-rotrou', 'ginir', 'petawawa', 'roma', 'taraz', 'labutta', 'meyungs', 'orocue', 'puerto madryn', 'halalo', 'nabire', 'verkhnetulomskiy', 'belyy yar', 'socorro', 'zyrardow', 'derzhavinsk', 'port-gentil', 'xiongyue', 'copiapo', 'yulara', 'brokopondo', 'okha', 'lensk', 'san martin', 'tilichiki', 'zalaegerszeg', 'necochea', 'atsiki', 'ijaki', 'severo-yeniseyskiy', 'dhidhdhoo', 'salinopolis', 'pierre', 'parrita', 'salani', 'shelburne', 'kenitra', 'eagle pass', 'poum', 'abnub', 'ulladulla', 'filingue', 'tabory', 'urumqi', 'lac du bonnet', 'leshukonskoye', 'jingdezhen', 'chiredzi', 'cachoeira do sul', 'batsfjord', 'marsh harbour', 'lakatoro', 'bayan', 'aanekoski', 'mutsamudu', 'sataua']\n"
     ]
    },
    {
     "data": {
      "text/plain": [
       "621"
      ]
     },
     "execution_count": 91,
     "metadata": {},
     "output_type": "execute_result"
    }
   ],
   "source": [
    "# List for holding lat_lngs and cities\n",
    "lat_lngs = []\n",
    "cities = []\n",
    "\n",
    "# Create a set of random lat and lng combinations\n",
    "#lats = np.random.uniform(lat_range[0], lat_range[1], size=1500)\n",
    "#lngs = np.random.uniform(lng_range[0], lng_range[1], size=1500)\n",
    "\n",
    "#Sample Set\n",
    "#lats = np.random.uniform(lat_range[0], lat_range[1], size=100)\n",
    "#lngs = np.random.uniform(lng_range[0], lng_range[1], size=100)\n",
    "\n",
    "lat_lngs = zip(lats, lngs)\n",
    "\n",
    "# Identify nearest city for each lat, lng combination\n",
    "for lat_lng in lat_lngs:\n",
    "    city = citipy.nearest_city(lat_lng[0], lat_lng[1]).city_name\n",
    "    \n",
    "    # If the city is unique, then add it to a our cities list\n",
    "    if city not in cities:\n",
    "        cities.append(city)\n",
    "print(cities)\n",
    "\n",
    "# Print the city count to confirm sufficient count\n",
    "len(cities)"
   ]
  },
  {
   "cell_type": "markdown",
   "metadata": {},
   "source": [
    "## Perform API Calls\n",
    "* Perform a weather check on each city using a series of successive API calls.\n",
    "* Include a print log of each city as it'sbeing processed (with the city number and city name).\n"
   ]
  },
  {
   "cell_type": "code",
   "execution_count": 107,
   "metadata": {
    "scrolled": true
   },
   "outputs": [
    {
     "name": "stdout",
     "output_type": "stream",
     "text": [
      "Processing API calls from Open Weather\n",
      "longyearbyen was found in weather data\n",
      "karakol was found in weather data\n",
      "mount pleasant was found in weather data\n",
      "bluff was found in weather data\n",
      "atuona was found in weather data\n",
      "marzuq was found in weather data\n",
      "east london was found in weather data\n",
      "ksenyevka not found. Skipped\n",
      "tasiilaq was found in weather data\n",
      "busselton was found in weather data\n",
      "saskylakh was found in weather data\n",
      "venado tuerto was found in weather data\n",
      "hilo was found in weather data\n",
      "talcahuano was found in weather data\n",
      "punta arenas was found in weather data\n",
      "urdzhar not found. Skipped\n",
      "port alfred was found in weather data\n",
      "ler was found in weather data\n",
      "rawson was found in weather data\n",
      "atasu was found in weather data\n",
      "castro was found in weather data\n",
      "jijiang was found in weather data\n",
      "codrington was found in weather data\n",
      "mega was found in weather data\n",
      "bengkulu was found in weather data\n",
      "severo-kurilsk was found in weather data\n",
      "grand gaube was found in weather data\n",
      "nizhneyansk not found. Skipped\n",
      "avarua was found in weather data\n",
      "albany was found in weather data\n",
      "illoqqortoormiut not found. Skipped\n",
      "springbok was found in weather data\n",
      "yerbogachen was found in weather data\n",
      "kapaa was found in weather data\n",
      "tougue was found in weather data\n",
      "tiksi was found in weather data\n",
      "cape town was found in weather data\n",
      "artyom was found in weather data\n",
      "annau was found in weather data\n",
      "puerto ayora was found in weather data\n",
      "isangel was found in weather data\n",
      "bambous virieux was found in weather data\n",
      "rajo khanani was found in weather data\n",
      "saint-philippe was found in weather data\n",
      "tommot was found in weather data\n",
      "aksu was found in weather data\n",
      "souillac was found in weather data\n",
      "hermanus was found in weather data\n",
      "colquechaca was found in weather data\n",
      "ushuaia was found in weather data\n",
      "hovd was found in weather data\n",
      "viedma was found in weather data\n",
      "mataura was found in weather data\n",
      "rikitea was found in weather data\n",
      "desaguadero was found in weather data\n",
      "nikolskoye was found in weather data\n",
      "kamenskoye not found. Skipped\n",
      "constitucion was found in weather data\n",
      "manicore was found in weather data\n",
      "horta was found in weather data\n",
      "grand river south east not found. Skipped\n",
      "mar del plata was found in weather data\n",
      "narsaq was found in weather data\n",
      "abalak was found in weather data\n",
      "ipixuna was found in weather data\n",
      "rabo de peixe was found in weather data\n",
      "hobart was found in weather data\n",
      "qaanaaq was found in weather data\n",
      "mys shmidta not found. Skipped\n",
      "marcona not found. Skipped\n",
      "victoria was found in weather data\n",
      "amderma not found. Skipped\n",
      "flinders was found in weather data\n",
      "dikson was found in weather data\n",
      "bandarbeyla was found in weather data\n",
      "arman was found in weather data\n",
      "homer was found in weather data\n",
      "tuktoyaktuk was found in weather data\n",
      "avera was found in weather data\n",
      "chapais was found in weather data\n",
      "port shepstone was found in weather data\n",
      "broome was found in weather data\n",
      "vaini was found in weather data\n",
      "hithadhoo was found in weather data\n",
      "cidreira was found in weather data\n",
      "xining was found in weather data\n",
      "faridpur was found in weather data\n",
      "comodoro rivadavia was found in weather data\n",
      "yellowknife was found in weather data\n",
      "illapel was found in weather data\n",
      "butaritari was found in weather data\n",
      "makakilo city was found in weather data\n",
      "bethel was found in weather data\n",
      "khatanga was found in weather data\n",
      "hervey bay was found in weather data\n",
      "suntar was found in weather data\n",
      "taolanaro not found. Skipped\n",
      "vardo was found in weather data\n",
      "acajutla was found in weather data\n",
      "bolu was found in weather data\n",
      "dunedin was found in weather data\n",
      "christchurch was found in weather data\n",
      "kutahya was found in weather data\n",
      "wajir was found in weather data\n",
      "amahai was found in weather data\n",
      "barentsburg not found. Skipped\n",
      "aguia branca was found in weather data\n",
      "puerto carreno was found in weather data\n",
      "beringovskiy was found in weather data\n",
      "tarakan was found in weather data\n",
      "ribeira grande was found in weather data\n",
      "merauke was found in weather data\n",
      "baixa grande was found in weather data\n",
      "ponta do sol was found in weather data\n",
      "ketchikan was found in weather data\n",
      "salalah was found in weather data\n",
      "umzimvubu not found. Skipped\n",
      "whyalla was found in weather data\n",
      "torbay was found in weather data\n",
      "hualmay was found in weather data\n",
      "georgetown was found in weather data\n",
      "mayo was found in weather data\n",
      "tamandare was found in weather data\n",
      "bredasdorp was found in weather data\n",
      "barrow was found in weather data\n",
      "thompson was found in weather data\n",
      "tsihombe not found. Skipped\n",
      "buriti alegre was found in weather data\n",
      "arraial do cabo was found in weather data\n",
      "jamestown was found in weather data\n",
      "uwayl not found. Skipped\n",
      "eyl was found in weather data\n",
      "zhezkazgan was found in weather data\n",
      "arcos was found in weather data\n",
      "burnie was found in weather data\n",
      "baruun-urt was found in weather data\n",
      "mujiayingzi was found in weather data\n",
      "keti bandar was found in weather data\n",
      "redmond was found in weather data\n",
      "jalu was found in weather data\n",
      "port elizabeth was found in weather data\n",
      "sri aman was found in weather data\n",
      "esqueda was found in weather data\n",
      "mwene-ditu was found in weather data\n",
      "norman wells was found in weather data\n",
      "rock sound was found in weather data\n",
      "chuy was found in weather data\n",
      "belushya guba not found. Skipped\n",
      "kindu was found in weather data\n",
      "fairbanks was found in weather data\n",
      "saldanha was found in weather data\n",
      "goycay not found. Skipped\n",
      "saleaula not found. Skipped\n",
      "svetlyy was found in weather data\n",
      "new norfolk was found in weather data\n",
      "sahrak not found. Skipped\n",
      "flagstaff was found in weather data\n",
      "karratha was found in weather data\n",
      "baraboo was found in weather data\n",
      "saint-georges was found in weather data\n",
      "provideniya was found in weather data\n",
      "sitka was found in weather data\n",
      "lebu was found in weather data\n",
      "kegayli not found. Skipped\n",
      "ahipara was found in weather data\n",
      "oltu was found in weather data\n",
      "orange was found in weather data\n",
      "tazovskiy was found in weather data\n",
      "ilulissat was found in weather data\n",
      "daru was found in weather data\n",
      "kabinda was found in weather data\n",
      "santa rosalia was found in weather data\n",
      "erzin was found in weather data\n",
      "orbetello was found in weather data\n",
      "bandrele was found in weather data\n",
      "lethem was found in weather data\n",
      "portage was found in weather data\n",
      "ibra was found in weather data\n",
      "bereda was found in weather data\n",
      "zinder was found in weather data\n",
      "great falls was found in weather data\n",
      "san quintin was found in weather data\n",
      "boulsa was found in weather data\n",
      "chokurdakh was found in weather data\n",
      "qasigiannguit was found in weather data\n",
      "kloulklubed was found in weather data\n",
      "tuatapere was found in weather data\n",
      "namtsy was found in weather data\n",
      "zhangye was found in weather data\n",
      "barra do garcas was found in weather data\n",
      "ornskoldsvik was found in weather data\n",
      "buenavista was found in weather data\n",
      "nara was found in weather data\n",
      "rungata not found. Skipped\n",
      "upernavik was found in weather data\n",
      "kavieng was found in weather data\n",
      "kodiak was found in weather data\n",
      "carnarvon was found in weather data\n",
      "pozo colorado was found in weather data\n",
      "armidale was found in weather data\n",
      "bud was found in weather data\n",
      "liverpool was found in weather data\n",
      "smithers was found in weather data\n",
      "west bay was found in weather data\n",
      "verkhoyansk was found in weather data\n",
      "nizwa was found in weather data\n",
      "airai was found in weather data\n",
      "san policarpo was found in weather data\n",
      "buta was found in weather data\n",
      "pevek was found in weather data\n",
      "nanortalik was found in weather data\n",
      "kalmunai was found in weather data\n",
      "komsomolets was found in weather data\n",
      "moen was found in weather data\n",
      "coquimbo was found in weather data\n",
      "taoudenni was found in weather data\n",
      "maumere was found in weather data\n",
      "inuvik was found in weather data\n",
      "biloela was found in weather data\n",
      "pilao arcado not found. Skipped\n",
      "geraldton was found in weather data\n",
      "ayorou was found in weather data\n",
      "irbit was found in weather data\n",
      "warman was found in weather data\n",
      "saint-francois was found in weather data\n",
      "riberalta was found in weather data\n",
      "bahia honda was found in weather data\n",
      "russell was found in weather data\n",
      "maturin was found in weather data\n",
      "muroto was found in weather data\n",
      "otorohanga was found in weather data\n",
      "ambulu was found in weather data\n",
      "porto novo was found in weather data\n",
      "merzifon was found in weather data\n",
      "lewisporte was found in weather data\n"
     ]
    },
    {
     "name": "stdout",
     "output_type": "stream",
     "text": [
      "trinidad was found in weather data\n",
      "stephenville was found in weather data\n",
      "remiremont was found in weather data\n",
      "price was found in weather data\n",
      "hasaki was found in weather data\n",
      "hay river was found in weather data\n",
      "tautira was found in weather data\n",
      "san clemente was found in weather data\n",
      "marsaxlokk was found in weather data\n",
      "arlit was found in weather data\n",
      "houma was found in weather data\n",
      "bilibino was found in weather data\n",
      "raudeberg was found in weather data\n",
      "kirakira was found in weather data\n",
      "madang was found in weather data\n",
      "maniitsoq was found in weather data\n",
      "touros was found in weather data\n",
      "yar-sale was found in weather data\n",
      "katherine was found in weather data\n",
      "anadyr was found in weather data\n",
      "mareeba was found in weather data\n",
      "bowen was found in weather data\n",
      "vikhorevka was found in weather data\n",
      "moba was found in weather data\n",
      "lolua not found. Skipped\n",
      "kilembe was found in weather data\n",
      "zeya was found in weather data\n",
      "luanda was found in weather data\n",
      "kenai was found in weather data\n",
      "qandala was found in weather data\n",
      "olafsvik was found in weather data\n",
      "bubaque was found in weather data\n",
      "lappeenranta was found in weather data\n",
      "port blair was found in weather data\n",
      "galle was found in weather data\n",
      "roald was found in weather data\n",
      "adrar was found in weather data\n",
      "port hedland was found in weather data\n",
      "bathsheba was found in weather data\n",
      "axim was found in weather data\n",
      "kaitangata was found in weather data\n",
      "kusk not found. Skipped\n",
      "bilma was found in weather data\n",
      "cap malheureux was found in weather data\n",
      "umm lajj was found in weather data\n",
      "caceres was found in weather data\n",
      "colares was found in weather data\n",
      "praia da vitoria was found in weather data\n",
      "thinadhoo was found in weather data\n",
      "palabuhanratu not found. Skipped\n",
      "ust-maya was found in weather data\n",
      "itarema was found in weather data\n",
      "mount gambier was found in weather data\n",
      "mahebourg was found in weather data\n",
      "moi was found in weather data\n",
      "tecoanapa was found in weather data\n",
      "korla was found in weather data\n",
      "ixtapa was found in weather data\n",
      "aksarka was found in weather data\n",
      "sechura was found in weather data\n",
      "olovyannaya was found in weather data\n",
      "mamallapuram was found in weather data\n",
      "kondinskoye was found in weather data\n",
      "sao filipe was found in weather data\n",
      "haines junction was found in weather data\n",
      "nagorsk was found in weather data\n",
      "tiarei was found in weather data\n",
      "kruisfontein was found in weather data\n",
      "gushikawa was found in weather data\n",
      "dafeng was found in weather data\n",
      "hami was found in weather data\n",
      "mount vernon was found in weather data\n",
      "nargana was found in weather data\n",
      "hamilton was found in weather data\n",
      "aklavik was found in weather data\n",
      "upington was found in weather data\n",
      "ternate was found in weather data\n",
      "samarai was found in weather data\n",
      "jiazi was found in weather data\n",
      "watertown was found in weather data\n",
      "kpandu was found in weather data\n",
      "kachug was found in weather data\n",
      "havoysund was found in weather data\n",
      "sterling was found in weather data\n",
      "sur was found in weather data\n",
      "wahran not found. Skipped\n",
      "talnakh was found in weather data\n",
      "mehamn was found in weather data\n",
      "laguna was found in weather data\n",
      "faanui was found in weather data\n",
      "katsuura was found in weather data\n",
      "vila velha was found in weather data\n",
      "washougal was found in weather data\n",
      "lagoa was found in weather data\n",
      "camacha was found in weather data\n",
      "sainte-rose was found in weather data\n",
      "coruripe was found in weather data\n",
      "klaksvik was found in weather data\n",
      "fortuna was found in weather data\n",
      "coral springs was found in weather data\n",
      "lata was found in weather data\n",
      "barbar not found. Skipped\n",
      "cherskiy was found in weather data\n",
      "gat was found in weather data\n",
      "linqiong was found in weather data\n",
      "aykhal was found in weather data\n",
      "puerto colombia was found in weather data\n",
      "moose factory was found in weather data\n",
      "muros was found in weather data\n",
      "kamaishi was found in weather data\n",
      "george was found in weather data\n",
      "buraydah was found in weather data\n",
      "toba was found in weather data\n",
      "handan was found in weather data\n",
      "shubarshi was found in weather data\n",
      "calawag was found in weather data\n",
      "locri was found in weather data\n",
      "mandi bahauddin was found in weather data\n",
      "kavaratti was found in weather data\n",
      "coihaique was found in weather data\n",
      "inderborskiy not found. Skipped\n",
      "lhokseumawe was found in weather data\n",
      "umm kaddadah was found in weather data\n",
      "gushi was found in weather data\n",
      "santa cruz was found in weather data\n",
      "te anau was found in weather data\n",
      "neiafu was found in weather data\n",
      "lashio was found in weather data\n",
      "nelson bay was found in weather data\n",
      "malinovskiy was found in weather data\n",
      "passage west was found in weather data\n",
      "parabel was found in weather data\n",
      "gazanjyk was found in weather data\n",
      "eldikan not found. Skipped\n",
      "canar was found in weather data\n",
      "gannan was found in weather data\n",
      "huarmey was found in weather data\n",
      "ishigaki was found in weather data\n",
      "niquero was found in weather data\n",
      "vaitupu not found. Skipped\n",
      "guaymas was found in weather data\n",
      "moiyabana not found. Skipped\n",
      "yilan was found in weather data\n",
      "nemuro was found in weather data\n",
      "paradwip not found. Skipped\n",
      "aflu not found. Skipped\n",
      "iqaluit was found in weather data\n",
      "frontera was found in weather data\n",
      "sens was found in weather data\n",
      "kholm was found in weather data\n",
      "tecalco was found in weather data\n",
      "pangai was found in weather data\n",
      "warqla not found. Skipped\n",
      "nizhniy tsasuchey was found in weather data\n",
      "harrisonville was found in weather data\n",
      "balakhninskiy was found in weather data\n",
      "cabo san lucas was found in weather data\n",
      "meerhout was found in weather data\n",
      "cayenne was found in weather data\n",
      "veraval was found in weather data\n",
      "kentau was found in weather data\n",
      "george town was found in weather data\n",
      "olivehurst was found in weather data\n",
      "bonavista was found in weather data\n",
      "srivardhan was found in weather data\n",
      "qurayyat was found in weather data\n",
      "biltine was found in weather data\n",
      "bara was found in weather data\n",
      "ereymentau was found in weather data\n",
      "port-cartier was found in weather data\n",
      "campos do jordao was found in weather data\n",
      "genhe was found in weather data\n",
      "yingzhong not found. Skipped\n",
      "opuwo was found in weather data\n",
      "togul was found in weather data\n",
      "bambanglipuro was found in weather data\n",
      "batemans bay was found in weather data\n",
      "guarapari was found in weather data\n",
      "marabba was found in weather data\n",
      "sao jose da coroa grande was found in weather data\n",
      "akdepe was found in weather data\n",
      "heiligenhafen was found in weather data\n",
      "nouadhibou was found in weather data\n",
      "hofn was found in weather data\n",
      "araouane was found in weather data\n",
      "saint stephen was found in weather data\n",
      "warrington was found in weather data\n",
      "kargasok was found in weather data\n",
      "mana was found in weather data\n",
      "husavik was found in weather data\n",
      "trofors was found in weather data\n",
      "santa fe was found in weather data\n",
      "marawi was found in weather data\n",
      "atbasar was found in weather data\n",
      "denpasar was found in weather data\n",
      "santo tomas was found in weather data\n",
      "shatsk was found in weather data\n",
      "yuzhno-yeniseyskiy not found. Skipped\n",
      "santa rosa was found in weather data\n",
      "truckee was found in weather data\n",
      "sentyabrskiy not found. Skipped\n",
      "malwan not found. Skipped\n",
      "attawapiskat not found. Skipped\n",
      "vostok was found in weather data\n",
      "huayang was found in weather data\n",
      "praia was found in weather data\n",
      "gwadar was found in weather data\n",
      "san patricio was found in weather data\n",
      "saint-pierre was found in weather data\n",
      "san pedro was found in weather data\n",
      "guerrero negro was found in weather data\n",
      "panalingaan was found in weather data\n",
      "los altos was found in weather data\n",
      "sao joao da barra was found in weather data\n",
      "maisyan not found. Skipped\n",
      "auki was found in weather data\n",
      "suzhou was found in weather data\n",
      "lodja was found in weather data\n",
      "koboldo not found. Skipped\n",
      "salaga was found in weather data\n",
      "ravar was found in weather data\n",
      "goundam was found in weather data\n",
      "ndele was found in weather data\n",
      "olga was found in weather data\n",
      "plettenberg bay was found in weather data\n",
      "kabalo was found in weather data\n",
      "kamenka was found in weather data\n",
      "viransehir was found in weather data\n",
      "vung tau was found in weather data\n",
      "pacific grove was found in weather data\n",
      "shirokiy was found in weather data\n",
      "zachagansk not found. Skipped\n",
      "alenquer was found in weather data\n",
      "murree was found in weather data\n",
      "daxian not found. Skipped\n",
      "tual was found in weather data\n",
      "pisco was found in weather data\n",
      "karkaralinsk not found. Skipped\n"
     ]
    },
    {
     "name": "stdout",
     "output_type": "stream",
     "text": [
      "rivadavia was found in weather data\n",
      "waipawa was found in weather data\n",
      "micco was found in weather data\n",
      "bosaso was found in weather data\n",
      "kaliganj was found in weather data\n",
      "matara was found in weather data\n",
      "alofi was found in weather data\n",
      "terrace was found in weather data\n",
      "vanavara was found in weather data\n",
      "truth or consequences was found in weather data\n",
      "turinskaya sloboda was found in weather data\n",
      "marsa matruh was found in weather data\n",
      "ostrovnoy was found in weather data\n",
      "margate was found in weather data\n",
      "sayat was found in weather data\n",
      "rajpur was found in weather data\n",
      "anloga was found in weather data\n",
      "ajaccio was found in weather data\n",
      "khuzdar was found in weather data\n",
      "santa maria was found in weather data\n",
      "zharkent was found in weather data\n",
      "san jeronimo was found in weather data\n",
      "ntcheu was found in weather data\n",
      "tomakomai was found in weather data\n",
      "raga was found in weather data\n",
      "preobrazheniye was found in weather data\n",
      "balaipungut was found in weather data\n",
      "port macquarie was found in weather data\n",
      "smirnykh was found in weather data\n",
      "garden city was found in weather data\n",
      "san luis was found in weather data\n",
      "abu dhabi was found in weather data\n",
      "saint george was found in weather data\n",
      "ibateguara was found in weather data\n",
      "manokwari was found in weather data\n",
      "san felipe was found in weather data\n",
      "nioro was found in weather data\n",
      "komatipoort was found in weather data\n",
      "palmer was found in weather data\n",
      "kaman was found in weather data\n",
      "chepareria was found in weather data\n",
      "quelimane was found in weather data\n",
      "havre-saint-pierre was found in weather data\n",
      "los llanos de aridane was found in weather data\n",
      "aswan was found in weather data\n",
      "meulaboh was found in weather data\n",
      "tera was found in weather data\n",
      "quatre cocos was found in weather data\n",
      "udachnyy was found in weather data\n",
      "ballina was found in weather data\n",
      "abha was found in weather data\n",
      "stepnyak was found in weather data\n",
      "monrovia was found in weather data\n",
      "eureka was found in weather data\n",
      "manzil salim was found in weather data\n",
      "puerto princesa was found in weather data\n",
      "ust-tsilma was found in weather data\n",
      "saurimo was found in weather data\n",
      "tubuala was found in weather data\n",
      "paracuru was found in weather data\n",
      "port lincoln was found in weather data\n",
      "ngunguru was found in weather data\n",
      "tromso was found in weather data\n",
      "bakonycsernye was found in weather data\n",
      "kishtwar was found in weather data\n",
      "padang was found in weather data\n",
      "taicheng was found in weather data\n",
      "dzhusaly not found. Skipped\n",
      "yomitan not found. Skipped\n",
      "kushima was found in weather data\n",
      "temeni was found in weather data\n",
      "tabiauea not found. Skipped\n",
      "totoral was found in weather data\n",
      "phan rang not found. Skipped\n",
      "pochutla was found in weather data\n",
      "la rioja was found in weather data\n",
      "aguimes was found in weather data\n",
      "tessalit was found in weather data\n",
      "talah not found. Skipped\n",
      "bukachacha was found in weather data\n",
      "nome was found in weather data\n",
      "huaiyin was found in weather data\n",
      "obodivka was found in weather data\n",
      "mouzakion not found. Skipped\n",
      "ouesso was found in weather data\n",
      "norwich was found in weather data\n",
      "nhulunbuy was found in weather data\n",
      "atambua was found in weather data\n",
      "lorengau was found in weather data\n",
      "lavrentiya was found in weather data\n",
      "gao was found in weather data\n",
      "ayagoz was found in weather data\n",
      "nogent-le-rotrou was found in weather data\n",
      "ginir was found in weather data\n",
      "petawawa was found in weather data\n",
      "roma was found in weather data\n",
      "taraz was found in weather data\n",
      "labutta not found. Skipped\n",
      "meyungs not found. Skipped\n",
      "orocue was found in weather data\n",
      "puerto madryn was found in weather data\n",
      "halalo not found. Skipped\n",
      "nabire was found in weather data\n",
      "verkhnetulomskiy was found in weather data\n",
      "belyy yar was found in weather data\n",
      "socorro was found in weather data\n",
      "zyrardow was found in weather data\n",
      "derzhavinsk was found in weather data\n",
      "port-gentil was found in weather data\n",
      "xiongyue was found in weather data\n",
      "copiapo was found in weather data\n",
      "yulara was found in weather data\n",
      "brokopondo was found in weather data\n",
      "okha was found in weather data\n",
      "lensk was found in weather data\n",
      "san martin was found in weather data\n",
      "tilichiki was found in weather data\n",
      "zalaegerszeg was found in weather data\n",
      "necochea was found in weather data\n",
      "atsiki not found. Skipped\n",
      "ijaki not found. Skipped\n",
      "severo-yeniseyskiy was found in weather data\n",
      "dhidhdhoo was found in weather data\n",
      "salinopolis was found in weather data\n",
      "pierre was found in weather data\n",
      "parrita was found in weather data\n",
      "salani was found in weather data\n",
      "shelburne was found in weather data\n",
      "kenitra was found in weather data\n",
      "eagle pass was found in weather data\n",
      "poum was found in weather data\n",
      "abnub was found in weather data\n",
      "ulladulla was found in weather data\n",
      "filingue was found in weather data\n",
      "tabory was found in weather data\n",
      "urumqi was found in weather data\n",
      "lac du bonnet was found in weather data\n",
      "leshukonskoye was found in weather data\n",
      "jingdezhen was found in weather data\n",
      "chiredzi was found in weather data\n",
      "cachoeira do sul was found in weather data\n",
      "batsfjord was found in weather data\n",
      "marsh harbour was found in weather data\n",
      "lakatoro was found in weather data\n",
      "bayan was found in weather data\n",
      "aanekoski was found in weather data\n",
      "mutsamudu not found. Skipped\n",
      "sataua not found. Skipped\n",
      "End of City list\n"
     ]
    }
   ],
   "source": [
    "# Create a base url\n",
    "base_url = \"http://api.openweathermap.org/data/2.5/weather?units=imperial&appid=\" + weather_api_key\n",
    "#print(base_url)\n",
    "\n",
    "# Create the lists to hold relative data\n",
    "found_cities =[]\n",
    "cloudiness = []\n",
    "country = []\n",
    "date = []\n",
    "humidity = []\n",
    "lat = []\n",
    "lng = []\n",
    "max_temp = []\n",
    "wind_speed = []\n",
    "\n",
    "# Create a query url for each city in the cities list to get json response\n",
    "\n",
    "print(\"Processing API calls from Open Weather\")\n",
    "for city in cities:\n",
    "    \n",
    "    time.sleep(1)\n",
    "         \n",
    "    # Create API url for each city\n",
    "    query_url = base_url +\"&q=\" + city\n",
    "\n",
    "    \n",
    "    # Get json respose for each city\n",
    "    response = requests.get(query_url).json()\n",
    "\n",
    "   # Add the values to the lists\n",
    "    try:       \n",
    "        found_cities.append(response[\"name\"])\n",
    "        cloudiness.append(response[\"clouds\"][\"all\"])\n",
    "        country.append(response[\"sys\"][\"country\"])\n",
    "        date.append(response[\"dt\"])\n",
    "        humidity.append(response[\"main\"][\"humidity\"])\n",
    "        lat.append(response[\"coord\"][\"lat\"])\n",
    "        lng.append(response[\"coord\"][\"lon\"])\n",
    "        max_temp.append(response[\"main\"][\"temp_max\"])\n",
    "        wind_speed.append(response[\"wind\"][\"speed\"])\n",
    "\n",
    "        print(f\"{city} was found in weather data\") \n",
    "        \n",
    "    except KeyError:\n",
    "        print(f\"{city} not found. Skipped\")\n",
    "        pass\n",
    "        \n",
    "print(\"End of City list\")\n",
    "\n"
   ]
  },
  {
   "cell_type": "code",
   "execution_count": 93,
   "metadata": {},
   "outputs": [
    {
     "data": {
      "text/html": [
       "<div>\n",
       "<style scoped>\n",
       "    .dataframe tbody tr th:only-of-type {\n",
       "        vertical-align: middle;\n",
       "    }\n",
       "\n",
       "    .dataframe tbody tr th {\n",
       "        vertical-align: top;\n",
       "    }\n",
       "\n",
       "    .dataframe thead th {\n",
       "        text-align: right;\n",
       "    }\n",
       "</style>\n",
       "<table border=\"1\" class=\"dataframe\">\n",
       "  <thead>\n",
       "    <tr style=\"text-align: right;\">\n",
       "      <th></th>\n",
       "      <th>City</th>\n",
       "      <th>Latitude</th>\n",
       "      <th>Lng</th>\n",
       "      <th>Cloudiness</th>\n",
       "      <th>Country</th>\n",
       "      <th>Date</th>\n",
       "      <th>Humidity</th>\n",
       "      <th>Max Temp</th>\n",
       "      <th>Wind Speed</th>\n",
       "    </tr>\n",
       "  </thead>\n",
       "  <tbody>\n",
       "    <tr>\n",
       "      <th>0</th>\n",
       "      <td>Longyearbyen</td>\n",
       "      <td>78.22</td>\n",
       "      <td>15.64</td>\n",
       "      <td>75</td>\n",
       "      <td>SJ</td>\n",
       "      <td>1603124989</td>\n",
       "      <td>79</td>\n",
       "      <td>26.60</td>\n",
       "      <td>6.93</td>\n",
       "    </tr>\n",
       "    <tr>\n",
       "      <th>1</th>\n",
       "      <td>Karakol</td>\n",
       "      <td>42.49</td>\n",
       "      <td>78.39</td>\n",
       "      <td>0</td>\n",
       "      <td>KG</td>\n",
       "      <td>1603124767</td>\n",
       "      <td>50</td>\n",
       "      <td>43.54</td>\n",
       "      <td>1.70</td>\n",
       "    </tr>\n",
       "    <tr>\n",
       "      <th>2</th>\n",
       "      <td>Mt. Pleasant</td>\n",
       "      <td>32.79</td>\n",
       "      <td>-79.86</td>\n",
       "      <td>1</td>\n",
       "      <td>US</td>\n",
       "      <td>1603124904</td>\n",
       "      <td>57</td>\n",
       "      <td>78.80</td>\n",
       "      <td>4.70</td>\n",
       "    </tr>\n",
       "    <tr>\n",
       "      <th>3</th>\n",
       "      <td>Bluff</td>\n",
       "      <td>-46.60</td>\n",
       "      <td>168.33</td>\n",
       "      <td>79</td>\n",
       "      <td>NZ</td>\n",
       "      <td>1603124992</td>\n",
       "      <td>75</td>\n",
       "      <td>48.99</td>\n",
       "      <td>17.00</td>\n",
       "    </tr>\n",
       "    <tr>\n",
       "      <th>4</th>\n",
       "      <td>Atuona</td>\n",
       "      <td>-9.80</td>\n",
       "      <td>-139.03</td>\n",
       "      <td>6</td>\n",
       "      <td>PF</td>\n",
       "      <td>1603124993</td>\n",
       "      <td>74</td>\n",
       "      <td>78.12</td>\n",
       "      <td>22.15</td>\n",
       "    </tr>\n",
       "    <tr>\n",
       "      <th>...</th>\n",
       "      <td>...</td>\n",
       "      <td>...</td>\n",
       "      <td>...</td>\n",
       "      <td>...</td>\n",
       "      <td>...</td>\n",
       "      <td>...</td>\n",
       "      <td>...</td>\n",
       "      <td>...</td>\n",
       "      <td>...</td>\n",
       "    </tr>\n",
       "    <tr>\n",
       "      <th>560</th>\n",
       "      <td>Båtsfjord</td>\n",
       "      <td>70.63</td>\n",
       "      <td>29.72</td>\n",
       "      <td>75</td>\n",
       "      <td>NO</td>\n",
       "      <td>1603125653</td>\n",
       "      <td>81</td>\n",
       "      <td>33.80</td>\n",
       "      <td>12.75</td>\n",
       "    </tr>\n",
       "    <tr>\n",
       "      <th>561</th>\n",
       "      <td>Marsh Harbour</td>\n",
       "      <td>26.54</td>\n",
       "      <td>-77.06</td>\n",
       "      <td>100</td>\n",
       "      <td>BS</td>\n",
       "      <td>1603125654</td>\n",
       "      <td>71</td>\n",
       "      <td>82.31</td>\n",
       "      <td>18.12</td>\n",
       "    </tr>\n",
       "    <tr>\n",
       "      <th>562</th>\n",
       "      <td>Lakatoro</td>\n",
       "      <td>-16.10</td>\n",
       "      <td>167.42</td>\n",
       "      <td>37</td>\n",
       "      <td>VU</td>\n",
       "      <td>1603125655</td>\n",
       "      <td>73</td>\n",
       "      <td>75.20</td>\n",
       "      <td>7.56</td>\n",
       "    </tr>\n",
       "    <tr>\n",
       "      <th>563</th>\n",
       "      <td>Bayan</td>\n",
       "      <td>46.08</td>\n",
       "      <td>127.40</td>\n",
       "      <td>0</td>\n",
       "      <td>CN</td>\n",
       "      <td>1603125656</td>\n",
       "      <td>72</td>\n",
       "      <td>41.81</td>\n",
       "      <td>4.00</td>\n",
       "    </tr>\n",
       "    <tr>\n",
       "      <th>564</th>\n",
       "      <td>Äänekoski</td>\n",
       "      <td>62.69</td>\n",
       "      <td>25.82</td>\n",
       "      <td>75</td>\n",
       "      <td>FI</td>\n",
       "      <td>1603125657</td>\n",
       "      <td>95</td>\n",
       "      <td>34.00</td>\n",
       "      <td>8.05</td>\n",
       "    </tr>\n",
       "  </tbody>\n",
       "</table>\n",
       "<p>565 rows × 9 columns</p>\n",
       "</div>"
      ],
      "text/plain": [
       "              City  Latitude     Lng  Cloudiness Country        Date  \\\n",
       "0     Longyearbyen     78.22   15.64          75      SJ  1603124989   \n",
       "1          Karakol     42.49   78.39           0      KG  1603124767   \n",
       "2     Mt. Pleasant     32.79  -79.86           1      US  1603124904   \n",
       "3            Bluff    -46.60  168.33          79      NZ  1603124992   \n",
       "4           Atuona     -9.80 -139.03           6      PF  1603124993   \n",
       "..             ...       ...     ...         ...     ...         ...   \n",
       "560      Båtsfjord     70.63   29.72          75      NO  1603125653   \n",
       "561  Marsh Harbour     26.54  -77.06         100      BS  1603125654   \n",
       "562       Lakatoro    -16.10  167.42          37      VU  1603125655   \n",
       "563          Bayan     46.08  127.40           0      CN  1603125656   \n",
       "564      Äänekoski     62.69   25.82          75      FI  1603125657   \n",
       "\n",
       "     Humidity  Max Temp  Wind Speed  \n",
       "0          79     26.60        6.93  \n",
       "1          50     43.54        1.70  \n",
       "2          57     78.80        4.70  \n",
       "3          75     48.99       17.00  \n",
       "4          74     78.12       22.15  \n",
       "..        ...       ...         ...  \n",
       "560        81     33.80       12.75  \n",
       "561        71     82.31       18.12  \n",
       "562        73     75.20        7.56  \n",
       "563        72     41.81        4.00  \n",
       "564        95     34.00        8.05  \n",
       "\n",
       "[565 rows x 9 columns]"
      ]
     },
     "execution_count": 93,
     "metadata": {},
     "output_type": "execute_result"
    }
   ],
   "source": [
    "#Create Dictionary\n",
    "\n",
    "weather_raw_data = {\n",
    "    \"City\": found_cities,\n",
    "    \"Latitude\": lat,\n",
    "    \"Lng\": lng,\n",
    "    \"Cloudiness\": cloudiness,\n",
    "    \"Country\": country,\n",
    "    \"Date\": date,\n",
    "    \"Humidity\": humidity,\n",
    "    \"Max Temp\": max_temp,\n",
    "    \"Wind Speed\": wind_speed,\n",
    "    \"Date\":date\n",
    "    }\n",
    "\n",
    "#Create Data Frame\n",
    "weather_df = pd.DataFrame.from_dict(weather_raw_data, orient= 'columns')\n",
    "\n",
    "#Modify Date field\n",
    "\n",
    "\n",
    "#export to cs\n",
    "weather_df.to_csv(\"output_data/cities.csv\", index = False)\n",
    "weather_df"
   ]
  },
  {
   "cell_type": "markdown",
   "metadata": {},
   "source": [
    "## Plotting the Data\n",
    "* Use proper labeling of the plots using plot titles (including date of analysis) and axes labels.\n",
    "* Save the plotted figures as .pngs."
   ]
  },
  {
   "cell_type": "markdown",
   "metadata": {},
   "source": [
    "### Latitude vs. Temperature Plot"
   ]
  },
  {
   "cell_type": "code",
   "execution_count": 108,
   "metadata": {
    "scrolled": true
   },
   "outputs": [
    {
     "ename": "TypeError",
     "evalue": "'str' object is not callable",
     "output_type": "error",
     "traceback": [
      "\u001b[0;31m---------------------------------------------------------------------------\u001b[0m",
      "\u001b[0;31mTypeError\u001b[0m                                 Traceback (most recent call last)",
      "\u001b[0;32m<ipython-input-108-93fdba0b397c>\u001b[0m in \u001b[0;36m<module>\u001b[0;34m\u001b[0m\n\u001b[1;32m      1\u001b[0m \u001b[0mplt\u001b[0m\u001b[0;34m.\u001b[0m\u001b[0mscatter\u001b[0m\u001b[0;34m(\u001b[0m\u001b[0mweather_df\u001b[0m\u001b[0;34m[\u001b[0m\u001b[0;34m'Latitude'\u001b[0m\u001b[0;34m]\u001b[0m\u001b[0;34m,\u001b[0m\u001b[0mweather_df\u001b[0m\u001b[0;34m[\u001b[0m\u001b[0;34m'Max Temp'\u001b[0m\u001b[0;34m]\u001b[0m\u001b[0;34m,\u001b[0m\u001b[0medgecolors\u001b[0m\u001b[0;34m=\u001b[0m\u001b[0;34m'black'\u001b[0m\u001b[0;34m,\u001b[0m\u001b[0mfacecolors\u001b[0m\u001b[0;34m=\u001b[0m\u001b[0;34m'b'\u001b[0m\u001b[0;34m)\u001b[0m\u001b[0;34m\u001b[0m\u001b[0;34m\u001b[0m\u001b[0m\n\u001b[0;32m----> 2\u001b[0;31m \u001b[0mplt\u001b[0m\u001b[0;34m.\u001b[0m\u001b[0mtitle\u001b[0m\u001b[0;34m(\u001b[0m\u001b[0;34m\"Latitude vs. Temperature\"\u001b[0m\u001b[0;34m)\u001b[0m\u001b[0;34m\u001b[0m\u001b[0;34m\u001b[0m\u001b[0m\n\u001b[0m\u001b[1;32m      3\u001b[0m \u001b[0mplt\u001b[0m\u001b[0;34m.\u001b[0m\u001b[0mxlabel\u001b[0m\u001b[0;34m(\u001b[0m\u001b[0;34m'Latitude'\u001b[0m\u001b[0;34m)\u001b[0m\u001b[0;34m\u001b[0m\u001b[0;34m\u001b[0m\u001b[0m\n\u001b[1;32m      4\u001b[0m \u001b[0mplt\u001b[0m\u001b[0;34m.\u001b[0m\u001b[0mylabel\u001b[0m\u001b[0;34m(\u001b[0m\u001b[0;34m'Max Temperature (F)'\u001b[0m\u001b[0;34m)\u001b[0m\u001b[0;34m\u001b[0m\u001b[0;34m\u001b[0m\u001b[0m\n\u001b[1;32m      5\u001b[0m \u001b[0mplt\u001b[0m\u001b[0;34m.\u001b[0m\u001b[0mgrid\u001b[0m \u001b[0;34m(\u001b[0m\u001b[0mb\u001b[0m\u001b[0;34m=\u001b[0m\u001b[0;32mTrue\u001b[0m\u001b[0;34m,\u001b[0m\u001b[0mwhich\u001b[0m\u001b[0;34m=\u001b[0m\u001b[0;34m'major'\u001b[0m\u001b[0;34m,\u001b[0m\u001b[0maxis\u001b[0m\u001b[0;34m=\u001b[0m\u001b[0;34m'both'\u001b[0m\u001b[0;34m,\u001b[0m\u001b[0mlinestyle\u001b[0m\u001b[0;34m=\u001b[0m\u001b[0;34m'-'\u001b[0m\u001b[0;34m,\u001b[0m\u001b[0mcolor\u001b[0m\u001b[0;34m=\u001b[0m\u001b[0;34m'lightgrey'\u001b[0m\u001b[0;34m)\u001b[0m\u001b[0;34m\u001b[0m\u001b[0;34m\u001b[0m\u001b[0m\n",
      "\u001b[0;31mTypeError\u001b[0m: 'str' object is not callable"
     ]
    },
    {
     "data": {
      "image/png": "[encoded data removed]",
      "text/plain": [
       "<Figure size 432x288 with 1 Axes>"
      ]
     },
     "metadata": {
      "needs_background": "light"
     },
     "output_type": "display_data"
    }
   ],
   "source": [
    "plt.scatter(weather_df['Latitude'],weather_df['Max Temp'],edgecolors='black',facecolors='b')\n",
    "plt.title(\"Latitude vs. Temperature\")\n",
    "plt.xlabel('Latitude')\n",
    "plt.ylabel('Max Temperature (F)')\n",
    "plt.grid (b=True,which='major',axis='both',linestyle='-',color='lightgrey')\n",
    "plt.savefig(f\"Latitude vs. Max Temperature {title_date}.png\")"
   ]
  },
  {
   "cell_type": "markdown",
   "metadata": {},
   "source": [
    "### Latitude vs. Humidity Plot"
   ]
  },
  {
   "cell_type": "code",
   "execution_count": null,
   "metadata": {},
   "outputs": [],
   "source": [
    "plt.scatter(weather_df['Latitude'],weather_df['Humidity'],edgecolors='black',facecolors='b')\n",
    "plt.title(f\"City Latitude vs. Humidity\")\n",
    "plt.xlabel('Latitude')\n",
    "plt.ylabel('Max Humidity')\n",
    "plt.grid (b=True,which='major',axis='both',linestyle='-',color='lightgrey')\n",
    "plt.savefig(f\"{plt.title}.png\")"
   ]
  },
  {
   "cell_type": "markdown",
   "metadata": {},
   "source": [
    "### Latitude vs. Cloudiness Plot"
   ]
  },
  {
   "cell_type": "code",
   "execution_count": null,
   "metadata": {},
   "outputs": [],
   "source": [
    "plt.scatter(weather_df['Latitude'],weather_df['Cloudiness'],edgecolors='black',facecolors='b')\n",
    "plt.title =(\"Latitude vs. Cloudiness\")\n",
    "plt.xlabel('Latitude')\n",
    "plt.ylabel('Cloudiness (%)')\n",
    "plt.grid (b=True,which='major',axis='both',linestyle='-',color='lightgrey')\n",
    "plt.savefig(f\"Latitude vs. Cloudiness {title_date}.png\")"
   ]
  },
  {
   "cell_type": "markdown",
   "metadata": {},
   "source": [
    "### Latitude vs. Wind Speed Plot"
   ]
  },
  {
   "cell_type": "code",
   "execution_count": null,
   "metadata": {},
   "outputs": [],
   "source": [
    "plt.scatter(weather_df[\"Latitude\"],weather_df[\"Wind Speed\"],edgecolors=\"black\",facecolors='b')\n",
    "plt.title(f\"City Latitude vs. Wind Speed\")\n",
    "plt.xlabel(\"Latitude\")\n",
    "plt.ylabel(\"Wind Speed (mph)\")\n",
    "plt.grid (b=True,which='major',axis='both',linestyle='-',color='lightgrey')\n",
    "plt.savefig(f\"City Latitude vs. Wind Speed {title_date}.png\")"
   ]
  },
  {
   "cell_type": "markdown",
   "metadata": {},
   "source": [
    "## Linear Regression"
   ]
  },
  {
   "cell_type": "markdown",
   "metadata": {},
   "source": [
    "### Write linear regression plot function (optional)"
   ]
  },
  {
   "cell_type": "code",
   "execution_count": 116,
   "metadata": {},
   "outputs": [],
   "source": [
    "#create hemispheres\n",
    "north_hem = weather_df.loc[weather_df[\"Latitude\"] >= 0]\n",
    "south_hem = weather_df.loc[weather_df[\"Latitude\"] < 0]\n"
   ]
  },
  {
   "cell_type": "code",
   "execution_count": 122,
   "metadata": {},
   "outputs": [],
   "source": [
    "# Define function\n",
    "def linear_regression(x,y):\n",
    "    print(f\"The r-squared is : {round(st.pearsonr(x, y)[0],2)}\")\n",
    "    (slope, intercept, rvalue, pvalue, stderr) = linregress(x, y)\n",
    "    regress_values = x * slope + intercept\n",
    "    line_eq = \"y = \" + str(round(slope,2)) + \"x + \" + str(round(intercept,2))\n",
    "    plt.scatter(x, y)\n",
    "    plt.plot(x,regress_values,\"r-\")\n",
    "    return line_eq\n",
    "\n",
    "# Define annotation\n",
    "def annotate(line_eq, a, b):\n",
    "    plt.annotate(line_eq,(a,b),fontsize=15,color=\"orange\")"
   ]
  },
  {
   "cell_type": "markdown",
   "metadata": {},
   "source": [
    "###  Northern Hemisphere - Max Temp vs. Latitude Linear Regression"
   ]
  },
  {
   "cell_type": "code",
   "execution_count": 132,
   "metadata": {},
   "outputs": [
    {
     "name": "stdout",
     "output_type": "stream",
     "text": [
      "The r-squared is : -0.89\n"
     ]
    },
    {
     "data": {
      "image/png": "[encoded data removed]",
      "text/plain": [
       "<Figure size 432x288 with 1 Axes>"
      ]
     },
     "metadata": {
      "needs_background": "light"
     },
     "output_type": "display_data"
    }
   ],
   "source": [
    "#plot variable\n",
    "title_1 = \"Northern Hemisphere - Max Temp vs. Latitude Regression\"\n",
    "\n",
    "#use functions\n",
    "equation = linear_regression(north_hem[\"Latitude\"],north_hem[\"Max Temp\"])\n",
    "annotate(equation, 0, 0)\n",
    "\n",
    "#title and labels\n",
    "plt.title=(f\"{title_1}\")\n",
    "plt.xlabel(\"Latitude\")\n",
    "plt.ylabel(\"Max Temp (F)\")\n",
    "\n",
    "# Save the figure\n",
    "plt.savefig(f\"Images/{title_1}.png\")"
   ]
  },
  {
   "cell_type": "markdown",
   "metadata": {},
   "source": [
    "###  Southern Hemisphere - Max Temp vs. Latitude Linear Regression"
   ]
  },
  {
   "cell_type": "code",
   "execution_count": 158,
   "metadata": {},
   "outputs": [
    {
     "name": "stdout",
     "output_type": "stream",
     "text": [
      "The r-squared is : 0.71\n"
     ]
    },
    {
     "data": {
      "image/png": "[encoded data removed]",
      "text/plain": [
       "<Figure size 432x288 with 1 Axes>"
      ]
     },
     "metadata": {
      "needs_background": "light"
     },
     "output_type": "display_data"
    }
   ],
   "source": [
    "#plot variable\n",
    "title_2 = \"Southern Hemisphere - Max Temp vs. Latitude Regression\"\n",
    "\n",
    "#use functions\n",
    "equation = linear_regression(south_hem[\"Latitude\"],south_hem[\"Max Temp\"])\n",
    "annotate(equation, -30, 50)\n",
    "\n",
    "#title and labels\n",
    "plt.title=(f\"{title_2}\")\n",
    "plt.xlabel(\"Latitude\")\n",
    "plt.ylabel(\"Humidity (%)\")\n",
    "\n",
    "# Save the figure\n",
    "plt.savefig(f\"Images/{title_2}.png\")"
   ]
  },
  {
   "cell_type": "markdown",
   "metadata": {},
   "source": [
    "###  Northern Hemisphere - Humidity (%) vs. Latitude Linear Regression"
   ]
  },
  {
   "cell_type": "code",
   "execution_count": 157,
   "metadata": {},
   "outputs": [
    {
     "name": "stdout",
     "output_type": "stream",
     "text": [
      "The r-squared is : -0.52\n"
     ]
    },
    {
     "data": {
      "image/png": "[encoded data removed]",
      "text/plain": [
       "<Figure size 432x288 with 1 Axes>"
      ]
     },
     "metadata": {
      "needs_background": "light"
     },
     "output_type": "display_data"
    }
   ],
   "source": [
    "#plot variable\n",
    "title_3 = \"Northern Hemisphere - Humidity (%) vs. Latitude Regression\"\n",
    "\n",
    "#use functions\n",
    "equation = linear_regression(north_hem[\"Humidity\"],north_hem[\"Max Temp\"])\n",
    "annotate(equation, 20, 15)\n",
    "\n",
    "#title and labels\n",
    "plt.title=(f\"{title_3}\")\n",
    "plt.xlabel(\"Latitude\")\n",
    "plt.ylabel(\"Humidity (%)\")\n",
    "\n",
    "# Save the figure\n",
    "plt.savefig(f\"Images/{title_3}.png\")"
   ]
  },
  {
   "cell_type": "markdown",
   "metadata": {},
   "source": [
    "###  Southern Hemisphere - Humidity (%) vs. Latitude Linear Regression"
   ]
  },
  {
   "cell_type": "code",
   "execution_count": 156,
   "metadata": {},
   "outputs": [
    {
     "name": "stdout",
     "output_type": "stream",
     "text": [
      "The r-squared is : -0.29\n"
     ]
    },
    {
     "data": {
      "image/png": "[encoded data removed]",
      "text/plain": [
       "<Figure size 432x288 with 1 Axes>"
      ]
     },
     "metadata": {
      "needs_background": "light"
     },
     "output_type": "display_data"
    }
   ],
   "source": [
    "#plot variable\n",
    "title_4 = \"Southern Hemisphere - Humidity (%) vs. Latitude Regression\"\n",
    "\n",
    "#use functions\n",
    "equation = linear_regression(south_hem[\"Humidity\"],south_hem[\"Max Temp\"])\n",
    "annotate(equation, 10, 50)\n",
    "\n",
    "#title and labels\n",
    "plt.title=(f\"{title_4}\")\n",
    "plt.xlabel(\"Latitude\")\n",
    "plt.ylabel(\"Cloudiness (%)\")\n",
    "\n",
    "# Save the figure\n",
    "plt.savefig(f\"Images/{title_4}.png\")"
   ]
  },
  {
   "cell_type": "markdown",
   "metadata": {},
   "source": [
    "###  Northern Hemisphere - Cloudiness (%) vs. Latitude Linear Regression"
   ]
  },
  {
   "cell_type": "code",
   "execution_count": 155,
   "metadata": {},
   "outputs": [
    {
     "name": "stdout",
     "output_type": "stream",
     "text": [
      "The r-squared is : -0.29\n"
     ]
    },
    {
     "data": {
      "image/png": "[encoded data removed]",
      "text/plain": [
       "<Figure size 432x288 with 1 Axes>"
      ]
     },
     "metadata": {
      "needs_background": "light"
     },
     "output_type": "display_data"
    }
   ],
   "source": [
    "#plot variable\n",
    "title_5 = \"Northern Hemisphere - Cloudiness vs. Latitude Regression\"\n",
    "\n",
    "#use functions\n",
    "equation = linear_regression(north_hem[\"Cloudiness\"],north_hem[\"Max Temp\"])\n",
    "annotate(equation, 0, 10)\n",
    "\n",
    "#title and labels\n",
    "plt.title=(f\"{title_5}\")\n",
    "plt.xlabel(\"Latitude\")\n",
    "plt.ylabel(\"Cloudiness (%)\")\n",
    "\n",
    "# Save the figure\n",
    "plt.savefig(f\"Images/{title_5}.png\")"
   ]
  },
  {
   "cell_type": "markdown",
   "metadata": {},
   "source": [
    "###  Southern Hemisphere - Cloudiness (%) vs. Latitude Linear Regression"
   ]
  },
  {
   "cell_type": "code",
   "execution_count": 154,
   "metadata": {},
   "outputs": [
    {
     "name": "stdout",
     "output_type": "stream",
     "text": [
      "The r-squared is : -0.05\n"
     ]
    },
    {
     "data": {
      "image/png": "[encoded data removed]",
      "text/plain": [
       "<Figure size 432x288 with 1 Axes>"
      ]
     },
     "metadata": {
      "needs_background": "light"
     },
     "output_type": "display_data"
    }
   ],
   "source": [
    "#plot variable\n",
    "title_5 = \"Southern Hemisphere - Max Temp vs. Latitude Regression\"\n",
    "\n",
    "#use functions\n",
    "equation = linear_regression(south_hem[\"Cloudiness\"],south_hem[\"Max Temp\"])\n",
    "annotate(equation, 30, 40)\n",
    "\n",
    "#title and labels\n",
    "plt.title=(f\"{title_5}\")\n",
    "plt.xlabel(\"Latitude\")\n",
    "plt.ylabel(\"Cloudiness (%)\")\n",
    "\n",
    "# Save the figure\n",
    "plt.savefig(f\"Images/{title_5}.png\")"
   ]
  },
  {
   "cell_type": "markdown",
   "metadata": {},
   "source": [
    "###  Northern Hemisphere - Wind Speed (mph) vs. Latitude Linear Regression"
   ]
  },
  {
   "cell_type": "code",
   "execution_count": 153,
   "metadata": {},
   "outputs": [
    {
     "name": "stdout",
     "output_type": "stream",
     "text": [
      "The r-squared is : 0.0\n"
     ]
    },
    {
     "data": {
      "image/png": "[encoded data removed]",
      "text/plain": [
       "<Figure size 432x288 with 1 Axes>"
      ]
     },
     "metadata": {
      "needs_background": "light"
     },
     "output_type": "display_data"
    }
   ],
   "source": [
    "#plot variable\n",
    "title_7 = \"Northern Hemisphere - Wind Speed (mph) vs. Latitude Regression\"\n",
    "\n",
    "#use functions\n",
    "equation = linear_regression(north_hem[\"Wind Speed\"],north_hem[\"Max Temp\"])\n",
    "annotate(equation, 0, 0)\n",
    "\n",
    "#title and labels\n",
    "plt.title = (f\"{title_7}\")\n",
    "plt.xlabel(\"Latitude\")\n",
    "plt.ylabel(\"Wind Speed (mph)\")\n",
    "\n",
    "# Save the figure\n",
    "plt.savefig(f\"Images/{title_7}.png\")"
   ]
  },
  {
   "cell_type": "markdown",
   "metadata": {},
   "source": [
    "###  Southern Hemisphere - Wind Speed (mph) vs. Latitude Linear Regression"
   ]
  },
  {
   "cell_type": "code",
   "execution_count": 152,
   "metadata": {},
   "outputs": [
    {
     "name": "stdout",
     "output_type": "stream",
     "text": [
      "The r-squared is : 0.0\n"
     ]
    },
    {
     "data": {
      "image/png": "[encoded data removed]",
      "text/plain": [
       "<Figure size 432x288 with 1 Axes>"
      ]
     },
     "metadata": {
      "needs_background": "light"
     },
     "output_type": "display_data"
    }
   ],
   "source": [
    "#plot variable\n",
    "title_7 = \"Northern Hemisphere - Wind Speed (mph) vs. Latitude Regression\"\n",
    "\n",
    "#use functions\n",
    "equation = linear_regression(north_hem[\"Wind Speed\"],north_hem[\"Max Temp\"])\n",
    "annotate(equation, 0, 0)\n",
    "\n",
    "#title and labels\n",
    "plt.title = (f\"{title_7}\")\n",
    "plt.xlabel(\"Latitude\")\n",
    "plt.ylabel(\"Wind Speed (mph)\")\n",
    "\n",
    "# Save the figure\n",
    "plt.savefig(f\"Images/{title_7}.png\")"
   ]
  },
  {
   "cell_type": "code",
   "execution_count": null,
   "metadata": {},
   "outputs": [],
   "source": []
  },
  {
   "cell_type": "code",
   "execution_count": null,
   "metadata": {},
   "outputs": [],
   "source": []
  }
 ],
 "metadata": {
  "anaconda-cloud": {},
  "kernel_info": {
   "name": "python3"
  },
  "kernelspec": {
   "display_name": "Python 3",
   "language": "python",
   "name": "python3"
  },
  "language_info": {
   "codemirror_mode": {
    "name": "ipython",
    "version": 3
   },
   "file_extension": ".py",
   "mimetype": "text/x-python",
   "name": "python",
   "nbconvert_exporter": "python",
   "pygments_lexer": "ipython3",
   "version": "3.8.5"
  },
  "latex_envs": {
   "LaTeX_envs_menu_present": true,
   "autoclose": false,
   "autocomplete": true,
   "bibliofile": "biblio.bib",
   "cite_by": "apalike",
   "current_citInitial": 1,
   "eqLabelWithNumbers": true,
   "eqNumInitial": 1,
   "hotkeys": {
    "equation": "Ctrl-E",
    "itemize": "Ctrl-I"
   },
   "labels_anchors": false,
   "latex_user_defs": false,
   "report_style_numbering": false,
   "user_envs_cfg": false
  },
  "nteract": {
   "version": "0.12.3"
  },
  "toc": {
   "base_numbering": 1,
   "nav_menu": {},
   "number_sections": true,
   "sideBar": true,
   "skip_h1_title": false,
   "title_cell": "Table of Contents",
   "title_sidebar": "Contents",
   "toc_cell": false,
   "toc_position": {},
   "toc_section_display": true,
   "toc_window_display": false
  },
  "varInspector": {
   "cols": {
    "lenName": 16,
    "lenType": 16,
    "lenVar": 40
   },
   "kernels_config": {
    "python": {
     "delete_cmd_postfix": "",
     "delete_cmd_prefix": "del ",
     "library": "var_list.py",
     "varRefreshCmd": "print(var_dic_list())"
    },
    "r": {
     "delete_cmd_postfix": ") ",
     "delete_cmd_prefix": "rm(",
     "library": "var_list.r",
     "varRefreshCmd": "cat(var_dic_list()) "
    }
   },
   "types_to_exclude": [
    "module",
    "function",
    "builtin_function_or_method",
    "instance",
    "_Feature"
   ],
   "window_display": false
  }
 },
 "nbformat": 4,
 "nbformat_minor": 2
}

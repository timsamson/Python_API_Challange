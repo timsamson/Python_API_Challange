{
 "cells": [
  {
   "cell_type": "markdown",
   "metadata": {},
   "source": [
    "# WeatherPy\n",
    "----\n",
    "\n",
    "#### Note\n",
    "* Instructions have been included for each segment. You do not have to follow them exactly, but they are included to help you think through the steps."
   ]
  },
  {
   "cell_type": "code",
   "execution_count": 32,
   "metadata": {
    "scrolled": true
   },
   "outputs": [
    {
     "name": "stdout",
     "output_type": "stream",
     "text": [
      "dc0d70b879e0f386f28168386e95eb93\n"
     ]
    }
   ],
   "source": [
    "# Dependencies and Setup\n",
    "import matplotlib.pyplot as plt\n",
    "import pandas as pd\n",
    "import numpy as np\n",
    "import requests\n",
    "import time\n",
    "from scipy.stats import linregress\n",
    "\n",
    "# Import API key\n",
    "from api_keys import weather_api_key\n",
    "\n",
    "# Incorporated citipy to determine city based on latitude and longitude\n",
    "from citipy import citipy\n",
    "\n",
    "# Output File (CSV)\n",
    "output_data_file = \"output_data/cities.csv\"\n",
    "\n",
    "# Range of latitudes and longitudes\n",
    "lat_range = (-90, 90)\n",
    "lng_range = (-180, 180)\n",
    "\n",
    "print(weather_api_key)"
   ]
  },
  {
   "cell_type": "markdown",
   "metadata": {},
   "source": [
    "## Generate Cities List"
   ]
  },
  {
   "cell_type": "code",
   "execution_count": 33,
   "metadata": {},
   "outputs": [
    {
     "name": "stdout",
     "output_type": "stream",
     "text": [
      "['norman wells', 'jamestown', 'klaksvik', 'dongsheng', 'qaanaaq', 'colesberg', 'mys shmidta', 'vaini', 'chubbuck', 'upernavik', 'provideniya', 'itaueira', 'taolanaro', 'roebourne', 'avarua', 'severo-kurilsk', 'hobart', 'albany', 'punta arenas', 'ushuaia', 'jeremie', 'hilo', 'sisimiut', 'puerto baquerizo moreno', 'umzimvubu', 'cape town', 'puerto madryn', 'port elizabeth', 'busselton', 'yeniseysk', 'mount gambier', 'mateare', 'cherskiy', 'chaohu', 'new norfolk', 'farah', 'port moresby', 'rushden', 'torbay', 'rikitea', 'karatsu', 'helong', 'mataura', 'saint-pierre', 'pak phanang', 'sinnamary', 'tabiauea', 'samarai', 'dalkola', 'cidreira', 'wagar', 'ayorou', 'kupang', 'victoria', 'port lincoln', 'thompson', 'matagami', 'yoichi', 'samusu', 'hithadhoo', 'piacabucu', 'atuona', 'hermanus', 'ayotzintepec', 'kilrush', 'yenagoa', 'aklavik', 'taldan', 'chifeng', 'bluff', 'berlevag', 'alizai', 'balsas', 'bredasdorp', 'dikson', 'saint-philippe', 'barra do garcas', 'korla', 'zhezkazgan', 'energetik', 'lorengau', 'japura', 'honningsvag', 'mut', 'qui nhon', 'airai', 'qasigiannguit', 'kavieng', 'carnarvon', 'fortuna', 'kensington', 'bubaque', 'buribay', 'kloulklubed', 'primorsk', 'belushya guba', 'siocon', 'safakulevo', 'chokurdakh', 'faya', 'mar del plata', 'nueva gerona', 'saint george', 'laibin', 'ola', 'the valley', 'elko', 'touros', 'luau', 'kontagora', 'nuevo casas grandes', 'barentsburg', 'tuktoyaktuk', 'gat', 'yulara', 'alta floresta', 'menongue', 'katsuura', 'batagay', 'svetlaya', 'vondrozo', 'arraial do cabo', 'hasaki', 'yellowknife', 'rancho grande', 'rengo', 'anloga', 'knysna', 'saskylakh', 'port alfred', 'atbasar', 'catamarca', 'bollnas', 'georgetown', 'vila franca do campo', 'nueva concepcion', 'sandakan', 'walvis bay', 'kaitangata', 'iqaluit', 'paradwip', 'ritchie', 'pevek', 'weligama', 'nizhneyansk', 'saldanha', 'esperance', 'caravelas', 'vuktyl', 'orbeni', 'port blair', 'merauke', 'olimpia', 'mayo', 'lompoc', 'longyearbyen', 'broome', 'hanna', 'miraflores', 'faanui', 'brownsville', 'butaritari', 'morant bay', 'illoqqortoormiut', 'amderma', 'castro', 'suntar', 'mahebourg', 'asau', 'souillac', 'pangody', 'paliyad', 'vaitupu', 'black river', 'rimouski', 'saint-augustin', 'salvador', 'hapur', 'salalah', 'agadir', 'aksum', 'nome', 'isla vista', 'hamilton', 'otane', 'northam', 'soyo', 'verkh-usugli', 'carutapera', 'alugan', 'kapaa', 'sioux lookout', 'barrow', 'chicama', 'ambanja', 'geraldton', 'najran', 'taoudenni', 'havre-saint-pierre', 'los llanos de aridane', 'cocachacra', 'pokrovka', 'trelleborg', 'acajutla', 'synya', 'srednekolymsk', 'posse', 'seydi', 'komsomolskiy', 'kuusamo', 'jaroslaw', 'ancud', 'suleja', 'soe', 'suratgarh', 'auki', 'punalur', 'kamenka', 'chitral', 'edd', 'flinders', 'norden', 'burica', 'sydney', 'bethel', 'cayenne', 'tapaua', 'talnakh', 'port hedland', 'bengkulu', 'afmadu', 'lasa', 'sola', 'pavlodar', 'puerto ayora', 'bahia de caraquez', 'pemba', 'quatre cocos', 'bose', 'muros', 'porbandar', 'san cristobal', 'manbij', 'grand river south east', 'urucara', 'hay river', 'mareeba', 'daultala', 'ponta do sol', 'oum hadjer', 'pangnirtung', 'belo jardim', 'gangotri', 'altamira', 'juifang', 'erenhot', 'sitka', 'tasiilaq', 'monte cristi', 'bereda', 'nacala', 'labuhan', 'razole', 'moron', 'half moon bay', 'ostrovnoy', 'coquimbo', 'rizhao', 'ukiah', 'khatanga', 'alofi', 'hokitika', 'honiara', 'tiksi', 'hambantota', 'lagoa', 'sao filipe', 'maldonado', 'luganville', 'waipawa', 'santa maria', 'mehamn', 'kualakapuas', 'lucea', 'nhulunbuy', 'goure', 'jaciara', 'san quintin', 'leningradskiy', 'bambous virieux', 'laramie', 'margate', 'eenhana', 'pelym', 'sentyabrskiy', 'abnub', 'talas', 'bloemhof', 'xianyang', 'panorama', 'baykit', 'bykovo', 'hami', 'grand forks', 'suffolk', 'palabuhanratu', 'umm lajj', 'mitsamiouli', 'waingapu', 'bull savanna', 'narsaq', 'sinazongwe', 'jega', 'stornoway', 'chagda', 'arinos', 'dianopolis', 'singaraja', 'poum', 'saint anthony', 'aykhal', 'university place', 'naze', 'castanos', 'marcona', 'yumen', 'santana', 'vardo', 'ballinasloe', 'kenai', 'amapa', 'cabo san lucas', 'kodiak', 'maragogi', 'kruisfontein', 'bikaner', 'brigantine', 'richards bay', 'port macquarie', 'dori', 'nguiu', 'sanming', 'lowicz', 'malanje', 'mezen', 'vila velha', 'alghero', 'nanortalik', 'nemuro', 'lebu', 'mudkhed', 'la paz', 'aurillac', 'alice springs', 'ribeira grande', 'meilu', 'ha tinh', 'harrison', 'uspenka', 'dingle', 'lethem', 'bila tserkva', 'la colorada', 'bilma', 'gisborne', 'ilulissat', 'formosa do rio preto', 'kushima', 'pozo colorado', 'matay', 'saravan', 'sadowara', 'laguna', 'bentiu', 'halifax', 'viedma', 'grao mogol', 'isangel', 'ixtapa', 'puerto ayacucho', 'dunedin', 'alberton', 'rantepao', 'abha', 'nikolskoye', 'daru', 'jablah', 'falun', 'aparecida do taboado', 'coolum beach', 'mazyr', 'oshkosh', 'florence', 'yefira', 'davila', 'bandarbeyla', 'la palma', 'san patricio', 'arman', 'gouyave', 'todos santos', 'kadhan', 'jhinjhak', 'sao joao da barra', 'biltine', 'zhuji', 'olivenza', 'pisco', 'endicott', 'padang', 'mabai', 'ulaanbaatar', 'maltahohe', 'yuzhnouralsk', 'subtanjalla', 'praia da vitoria', 'fairbanks', 'kahului', 'kalanguy', 'gulshat', 'constitucion', 'buin', 'husavik', 'yamada', 'aswan', 'dudinka', 'cassilandia', 'gurskoye', 'shingu', 'bay city', 'guerrero negro', 'ilmatsalu', 'college', 'haibowan', 'miramar', 'riverton', 'new milford', 'atar', 'doctor pedro p. pena', 'tiarei', 'east london', 'huarmey', 'laharpur', 'taksimo', 'manaure', 'maceio', 'slonim', 'rongcheng', 'cabanas', 'det udom', 'arlit', 'kaeo', 'grand-santi', 'te kauwhata', 'basudebpur', 'samokov', 'romny', 'henties bay', 'yinchuan', 'beckley', 'tobetsu', 'grand gaube', 'portland', 'agirish', 'coihaique', 'amazar', 'do rud', 'jizan', 'andes', 'turbat', 'plouzane', 'camacha', 'mafeteng', 'omboue', 'bandar-e lengeh', 'attawapiskat', 'namibe', 'penzance', 'sompeta', 'comala', 'cherepovets', 'valparaiso', 'fort nelson', 'ahipara', 'kropotkin', 'sirjan', 'abu dhabi', 'pedernales', 'siguiri', 'maniitsoq', 'palmer', 'bolungarvik', 'rawannawi', 'lima', 'benxi', 'beyneu', 'carmen', 'itaguai', 'tomatlan', 'skibbereen', 'daxian', 'kamenskoye', 'kununurra', 'buchanan', 'majur', 'mujiayingzi', 'petropavlovsk-kamchatskiy', 'kosh-agach', 'gobabis', 'luderitz', 'new glasgow', 'belyy yar', 'tumannyy', 'san rafael del sur', 'denpasar', 'paysandu', 'marawi', 'washougal', 'kimbe', 'haldibari', 'valdivia', 'klyuchi', 'haines junction', 'morondava', 'andenes', 'xapuri', 'ban phaeo', 'srivardhan', 'baghdad', 'coahuayana', 'jian', 'karkaralinsk', 'tra vinh', 'antofagasta', 'alexandria', 'buenos aires', 'glinka', 'beringovskiy', 'kasongo', 'kysyl-syr', 'praia', 'pemangkat', 'frankenburg', 'aflu', 'warqla', 'kavaratti', 'vestmanna', 'freeport', 'urucurituba', 'chuy', 'aquiraz', 'sartana', 'pondicherry', 'saint-francois', 'krzeszowice', 'calvinia', 'prieska', 'kisangani', 'sidi ali', 'new ulm', 'petrovsk-zabaykalskiy', 'krasnoselkup', 'peniche', 'igrim', 'sahrak', 'inirida', 'ambunti', 'usakos', 'udachnyy', 'eureka', 'anito', 'lewistown', 'kaka', 'idah', 'ambulu', 'toliary', 'bagua grande', 'qiongshan', 'saleaula', 'devyatka', 'mocambique', 'price', 'pidhaytsi', 'kishi', 'lhokseumawe', 'jiddah', 'pareora', 'barbar', 'buraydah', 'kilindoni', 'evanston', 'karaul', 'xuddur', 'krasnotorka', 'lolua', 'beidao', 'kismayo', 'ust-kamchatsk', 'bathsheba']\n"
     ]
    }
   ],
   "source": [
    "# List for holding lat_lngs and cities\n",
    "lat_lngs = []\n",
    "cities = []\n",
    "\n",
    "# Create a set of random lat and lng combinations\n",
    "lats = np.random.uniform(lat_range[0], lat_range[1], size=1500)\n",
    "lngs = np.random.uniform(lng_range[0], lng_range[1], size=1500)\n",
    "\n",
    "#Sample Set\n",
    "#lats = np.random.uniform(lat_range[0], lat_range[1], size=100)\n",
    "#lngs = np.random.uniform(lng_range[0], lng_range[1], size=100)\n",
    "\n",
    "lat_lngs = zip(lats, lngs)\n",
    "\n",
    "# Identify nearest city for each lat, lng combination\n",
    "for lat_lng in lat_lngs:\n",
    "    city = citipy.nearest_city(lat_lng[0], lat_lng[1]).city_name\n",
    "    \n",
    "    # If the city is unique, then add it to a our cities list\n",
    "    if city not in cities:\n",
    "        cities.append(city)\n",
    "print(cities)\n",
    "# Print the city count to confirm sufficient count\n",
    "#len(cities)"
   ]
  },
  {
   "cell_type": "markdown",
   "metadata": {},
   "source": [
    "## Perform API Calls\n",
    "* Perform a weather check on each city using a series of successive API calls.\n",
    "* Include a print log of each city as it'sbeing processed (with the city number and city name).\n"
   ]
  },
  {
   "cell_type": "code",
   "execution_count": null,
   "metadata": {
    "scrolled": true
   },
   "outputs": [],
   "source": [
    "# Create a base url\n",
    "base_url = \"http://api.openweathermap.org/data/2.5/weather?units=imperial&appid=\" + weather_api_key\n",
    "#print(base_url)\n",
    "\n",
    "# Create the lists to hold relative data\n",
    "found_cities =[]\n",
    "cloudiness = []\n",
    "country = []\n",
    "date = []\n",
    "humidity = []\n",
    "lat = []\n",
    "lng = []\n",
    "max_temp = []\n",
    "wind_speed = []\n",
    "\n",
    "# Create a query url for each city in the cities list to get json response\n",
    "\n",
    "print(\"Processing API calls from Open Weather\")\n",
    "for city in cities:\n",
    "    \n",
    "    time.sleep(1)\n",
    "         \n",
    "    # Create API url for each city\n",
    "    query_url = base_url +\"&q=\" + city\n",
    "    \n",
    "    # Get json respose for each city\n",
    "    response = requests.get(query_url).json()\n",
    "\n",
    "   # Add the values to the lists\n",
    "    try:       \n",
    "        found_cities.append(response[\"name\"])\n",
    "        cloudiness.append(response[\"clouds\"][\"all\"])\n",
    "        country.append(response[\"sys\"][\"country\"])\n",
    "        date.append(response[\"dt\"])\n",
    "        humidity.append(response[\"main\"][\"humidity\"])\n",
    "        lat.append(response[\"coord\"][\"lat\"])\n",
    "        lng.append(response[\"coord\"][\"lon\"])\n",
    "        max_temp.append(response[\"main\"][\"temp_max\"])\n",
    "        wind_speed.append(response[\"wind\"][\"speed\"])\n",
    "\n",
    "        print(f\"{city} was found in weather data\") \n",
    "        \n",
    "    except KeyError:\n",
    "        print(f\"{city} not found. Skipping...\")\n",
    "        pass\n",
    "        \n",
    "print(\"End of City list\")\n",
    "\n"
   ]
  },
  {
   "cell_type": "code",
   "execution_count": null,
   "metadata": {},
   "outputs": [],
   "source": [
    "#Create Dictionary\n",
    "\n",
    "weather_raw_data = {\n",
    "    \"City\": found_cities,\n",
    "    \"Latitude\": lat,\n",
    "    \"Lng\": lng,\n",
    "    \"Cloudiness\": cloudiness,\n",
    "    \"Country\": country,\n",
    "    \"Date\": date,\n",
    "    \"Humidity\": humidity,\n",
    "    \"Max Temp\": max_temp,\n",
    "    \"Wind Speed\": wind_speed,\n",
    "    \"Date\":date\n",
    "    }\n",
    "\n",
    "#Create Data Frame\n",
    "weather_df = pd.DataFrame.from_dict(weather_raw_data, orient= 'columns')\n",
    "weather_df\n",
    "\n",
    "#export to cs\n",
    "weather_df.to_csv(\"output_data/cities.csv\", index = False)"
   ]
  },
  {
   "cell_type": "markdown",
   "metadata": {},
   "source": [
    "## Plotting the Data\n",
    "* Use proper labeling of the plots using plot titles (including date of analysis) and axes labels.\n",
    "* Save the plotted figures as .pngs."
   ]
  },
  {
   "cell_type": "markdown",
   "metadata": {},
   "source": [
    "### Latitude vs. Temperature Plot"
   ]
  },
  {
   "cell_type": "code",
   "execution_count": null,
   "metadata": {
    "scrolled": true
   },
   "outputs": [],
   "source": [
    "plt.scatter(cities_df[\"Latitude\"],cities_df[\"Max Temp\"],edgecolors=\"black\",facecolors=\"steelblue\")\n",
    "plt.title(f\"City Latitude vs. Max Temperature {date}\")\n",
    "plt.xlabel(\"Latitude\")\n",
    "plt.ylabel(\"Max Temperature (F)\")\n",
    "plt.grid (b=True,which=\"major\",axis=\"both\",linestyle=\"-\",color=\"lightgrey\")\n",
    "plt.savefig(\"Png/Lat vs Max Temp.png\")"
   ]
  },
  {
   "cell_type": "markdown",
   "metadata": {},
   "source": [
    "### Latitude vs. Humidity Plot"
   ]
  },
  {
   "cell_type": "code",
   "execution_count": null,
   "metadata": {},
   "outputs": [],
   "source": [
    "plt.scatter(cities_df[\"Latitude\"],cities_df[\"Humuduty\"],edgecolors=\"black\",facecolors=\"steelblue\")\n",
    "plt.title(\"City Latitude vs. Humuduty\")\n",
    "plt.xlabel(\"Latitude\")\n",
    "plt.ylabel(\"Max Temperature (F)\")\n",
    "plt.grid (b=True,which=\"major\",axis=\"both\",linestyle=\"-\",color=\"lightgrey\")\n",
    "plt.savefig(\"Png/Lat vs Max Temp.png\")"
   ]
  },
  {
   "cell_type": "markdown",
   "metadata": {},
   "source": [
    "### Latitude vs. Cloudiness Plot"
   ]
  },
  {
   "cell_type": "code",
   "execution_count": null,
   "metadata": {},
   "outputs": [],
   "source": []
  },
  {
   "cell_type": "markdown",
   "metadata": {},
   "source": [
    "### Latitude vs. Wind Speed Plot"
   ]
  },
  {
   "cell_type": "code",
   "execution_count": null,
   "metadata": {},
   "outputs": [],
   "source": []
  },
  {
   "cell_type": "markdown",
   "metadata": {},
   "source": [
    "## Linear Regression"
   ]
  },
  {
   "cell_type": "markdown",
   "metadata": {},
   "source": [
    "### Write linear regression plot function (optional)"
   ]
  },
  {
   "cell_type": "code",
   "execution_count": null,
   "metadata": {},
   "outputs": [],
   "source": []
  },
  {
   "cell_type": "markdown",
   "metadata": {},
   "source": [
    "###  Northern Hemisphere - Max Temp vs. Latitude Linear Regression"
   ]
  },
  {
   "cell_type": "code",
   "execution_count": null,
   "metadata": {},
   "outputs": [],
   "source": []
  },
  {
   "cell_type": "markdown",
   "metadata": {},
   "source": [
    "###  Southern Hemisphere - Max Temp vs. Latitude Linear Regression"
   ]
  },
  {
   "cell_type": "code",
   "execution_count": null,
   "metadata": {},
   "outputs": [],
   "source": []
  },
  {
   "cell_type": "markdown",
   "metadata": {},
   "source": [
    "###  Northern Hemisphere - Humidity (%) vs. Latitude Linear Regression"
   ]
  },
  {
   "cell_type": "code",
   "execution_count": null,
   "metadata": {},
   "outputs": [],
   "source": []
  },
  {
   "cell_type": "markdown",
   "metadata": {},
   "source": [
    "###  Southern Hemisphere - Humidity (%) vs. Latitude Linear Regression"
   ]
  },
  {
   "cell_type": "code",
   "execution_count": null,
   "metadata": {},
   "outputs": [],
   "source": []
  },
  {
   "cell_type": "markdown",
   "metadata": {},
   "source": [
    "###  Northern Hemisphere - Cloudiness (%) vs. Latitude Linear Regression"
   ]
  },
  {
   "cell_type": "code",
   "execution_count": null,
   "metadata": {},
   "outputs": [],
   "source": []
  },
  {
   "cell_type": "markdown",
   "metadata": {},
   "source": [
    "###  Southern Hemisphere - Cloudiness (%) vs. Latitude Linear Regression"
   ]
  },
  {
   "cell_type": "code",
   "execution_count": null,
   "metadata": {},
   "outputs": [],
   "source": []
  },
  {
   "cell_type": "markdown",
   "metadata": {},
   "source": [
    "###  Northern Hemisphere - Wind Speed (mph) vs. Latitude Linear Regression"
   ]
  },
  {
   "cell_type": "code",
   "execution_count": null,
   "metadata": {},
   "outputs": [],
   "source": []
  },
  {
   "cell_type": "markdown",
   "metadata": {},
   "source": [
    "###  Southern Hemisphere - Wind Speed (mph) vs. Latitude Linear Regression"
   ]
  },
  {
   "cell_type": "code",
   "execution_count": null,
   "metadata": {},
   "outputs": [],
   "source": []
  },
  {
   "cell_type": "code",
   "execution_count": null,
   "metadata": {},
   "outputs": [],
   "source": []
  },
  {
   "cell_type": "code",
   "execution_count": null,
   "metadata": {},
   "outputs": [],
   "source": []
  }
 ],
 "metadata": {
  "anaconda-cloud": {},
  "kernel_info": {
   "name": "python3"
  },
  "kernelspec": {
   "display_name": "Python 3",
   "language": "python",
   "name": "python3"
  },
  "language_info": {
   "codemirror_mode": {
    "name": "ipython",
    "version": 3
   },
   "file_extension": ".py",
   "mimetype": "text/x-python",
   "name": "python",
   "nbconvert_exporter": "python",
   "pygments_lexer": "ipython3",
   "version": "3.8.5"
  },
  "latex_envs": {
   "LaTeX_envs_menu_present": true,
   "autoclose": false,
   "autocomplete": true,
   "bibliofile": "biblio.bib",
   "cite_by": "apalike",
   "current_citInitial": 1,
   "eqLabelWithNumbers": true,
   "eqNumInitial": 1,
   "hotkeys": {
    "equation": "Ctrl-E",
    "itemize": "Ctrl-I"
   },
   "labels_anchors": false,
   "latex_user_defs": false,
   "report_style_numbering": false,
   "user_envs_cfg": false
  },
  "nteract": {
   "version": "0.12.3"
  },
  "toc": {
   "base_numbering": 1,
   "nav_menu": {},
   "number_sections": true,
   "sideBar": true,
   "skip_h1_title": false,
   "title_cell": "Table of Contents",
   "title_sidebar": "Contents",
   "toc_cell": false,
   "toc_position": {},
   "toc_section_display": true,
   "toc_window_display": false
  },
  "varInspector": {
   "cols": {
    "lenName": 16,
    "lenType": 16,
    "lenVar": 40
   },
   "kernels_config": {
    "python": {
     "delete_cmd_postfix": "",
     "delete_cmd_prefix": "del ",
     "library": "var_list.py",
     "varRefreshCmd": "print(var_dic_list())"
    },
    "r": {
     "delete_cmd_postfix": ") ",
     "delete_cmd_prefix": "rm(",
     "library": "var_list.r",
     "varRefreshCmd": "cat(var_dic_list()) "
    }
   },
   "types_to_exclude": [
    "module",
    "function",
    "builtin_function_or_method",
    "instance",
    "_Feature"
   ],
   "window_display": false
  }
 },
 "nbformat": 4,
 "nbformat_minor": 2
}

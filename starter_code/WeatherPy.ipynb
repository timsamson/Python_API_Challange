{
 "cells": [
  {
   "cell_type": "markdown",
   "metadata": {},
   "source": [
    "# WeatherPy\n",
    "----\n",
    "\n",
    "#### Note\n",
    "* Instructions have been included for each segment. You do not have to follow them exactly, but they are included to help you think through the steps."
   ]
  },
  {
   "cell_type": "code",
   "execution_count": 21,
   "metadata": {
    "scrolled": true
   },
   "outputs": [
    {
     "name": "stdout",
     "output_type": "stream",
     "text": [
      "dc0d70b879e0f386f28168386e95eb93\n"
     ]
    }
   ],
   "source": [
    "# Dependencies and Setup\n",
    "import matplotlib.pyplot as plt\n",
    "import pandas as pd\n",
    "import numpy as np\n",
    "import requests\n",
    "import time\n",
    "from scipy.stats import linregress\n",
    "\n",
    "# Import API key\n",
    "from api_keys import weather_api_key\n",
    "\n",
    "# Incorporated citipy to determine city based on latitude and longitude\n",
    "from citipy import citipy\n",
    "\n",
    "# Output File (CSV)\n",
    "output_data_file = \"output_data/cities.csv\"\n",
    "\n",
    "# Range of latitudes and longitudes\n",
    "lat_range = (-90, 90)\n",
    "lng_range = (-180, 180)\n",
    "\n",
    "print(weather_api_key)"
   ]
  },
  {
   "cell_type": "markdown",
   "metadata": {},
   "source": [
    "## Generate Cities List"
   ]
  },
  {
   "cell_type": "code",
   "execution_count": 22,
   "metadata": {},
   "outputs": [
    {
     "name": "stdout",
     "output_type": "stream",
     "text": [
      "['baker city', 'atuona', 'illoqqortoormiut', 'fairbanks', 'rikitea', 'kahului', 'albany', 'provideniya', 'huarmey', 'sobolevo', 'birao', 'luderitz', 'kushima', 'puerto ayora', 'mehamn', 'avera', 'stornoway', 'ushuaia', 'russell', 'kapaa', 'ribeira grande', 'castro', 'nioro', 'yellowknife', 'sao filipe', 'taolanaro', 'ust-kuyga', 'klaksvik', 'saint-louis', 'deputatskiy', 'arraial do cabo', 'new norfolk', 'port elizabeth', 'antipino', 'pinyug', 'busselton', 'fort saint john', 'nguiu', 'bluff', 'avarua', 'port alfred', 'hobyo', 'tiksi', 'victoria', 'barrow', 'torbay', 'nanortalik', 'upernavik', 'butaritari', 'sisimiut', 'simao', 'tuktoyaktuk', 'punta arenas', 'bereznik', 'narsaq', 'narasannapeta', 'lebu', 'mae hong son', 'port lincoln', 'padang', 'norman wells', 'cape town', 'hithadhoo', 'cidreira', 'qaanaaq', 'hlukhiv', 'longyearbyen', 'leningradskiy', 'vaini', 'kieta', 'bredasdorp', 'adre', 'hermanus', 'pevek', 'mahebourg', 'tuatapere', 'namatanai', 'utiel', 'tolaga bay']\n"
     ]
    }
   ],
   "source": [
    "# List for holding lat_lngs and cities\n",
    "lat_lngs = []\n",
    "cities = []\n",
    "\n",
    "# Create a set of random lat and lng combinations\n",
    "#lats = np.random.uniform(lat_range[0], lat_range[1], size=1500)\n",
    "#lngs = np.random.uniform(lng_range[0], lng_range[1], size=1500)\n",
    "\n",
    "#Sample Set\n",
    "lats = np.random.uniform(lat_range[0], lat_range[1], size=100)\n",
    "lngs = np.random.uniform(lng_range[0], lng_range[1], size=100)\n",
    "\n",
    "lat_lngs = zip(lats, lngs)\n",
    "\n",
    "# Identify nearest city for each lat, lng combination\n",
    "for lat_lng in lat_lngs:\n",
    "    city = citipy.nearest_city(lat_lng[0], lat_lng[1]).city_name\n",
    "    \n",
    "    # If the city is unique, then add it to a our cities list\n",
    "    if city not in cities:\n",
    "        cities.append(city)\n",
    "print(cities)\n",
    "# Print the city count to confirm sufficient count\n",
    "#len(cities)"
   ]
  },
  {
   "cell_type": "markdown",
   "metadata": {},
   "source": [
    "## Perform API Calls\n",
    "* Perform a weather check on each city using a series of successive API calls.\n",
    "* Include a print log of each city as it'sbeing processed (with the city number and city name).\n"
   ]
  },
  {
   "cell_type": "code",
   "execution_count": 24,
   "metadata": {
    "scrolled": true
   },
   "outputs": [
    {
     "name": "stdout",
     "output_type": "stream",
     "text": [
      "Processing API calls from Open Weather\n",
      "baker city was found in weather data\n",
      "atuona was found in weather data\n",
      "illoqqortoormiut not found. Skipping...\n",
      "fairbanks was found in weather data\n",
      "rikitea was found in weather data\n",
      "kahului was found in weather data\n",
      "albany was found in weather data\n",
      "provideniya was found in weather data\n",
      "huarmey was found in weather data\n",
      "sobolevo was found in weather data\n",
      "birao was found in weather data\n",
      "luderitz was found in weather data\n",
      "kushima was found in weather data\n",
      "puerto ayora was found in weather data\n",
      "mehamn was found in weather data\n",
      "avera was found in weather data\n",
      "stornoway was found in weather data\n",
      "ushuaia was found in weather data\n",
      "russell was found in weather data\n",
      "kapaa was found in weather data\n",
      "ribeira grande was found in weather data\n",
      "castro was found in weather data\n",
      "nioro was found in weather data\n",
      "yellowknife was found in weather data\n",
      "sao filipe was found in weather data\n",
      "taolanaro not found. Skipping...\n",
      "ust-kuyga was found in weather data\n",
      "klaksvik was found in weather data\n",
      "saint-louis was found in weather data\n",
      "deputatskiy was found in weather data\n",
      "arraial do cabo was found in weather data\n",
      "new norfolk was found in weather data\n",
      "port elizabeth was found in weather data\n",
      "antipino was found in weather data\n",
      "pinyug was found in weather data\n",
      "busselton was found in weather data\n",
      "fort saint john not found. Skipping...\n",
      "nguiu not found. Skipping...\n",
      "bluff was found in weather data\n",
      "avarua was found in weather data\n",
      "port alfred was found in weather data\n",
      "hobyo was found in weather data\n",
      "tiksi was found in weather data\n",
      "victoria was found in weather data\n",
      "barrow was found in weather data\n",
      "torbay was found in weather data\n",
      "nanortalik was found in weather data\n",
      "upernavik was found in weather data\n",
      "butaritari was found in weather data\n",
      "sisimiut was found in weather data\n",
      "simao was found in weather data\n",
      "tuktoyaktuk was found in weather data\n",
      "punta arenas was found in weather data\n",
      "bereznik was found in weather data\n",
      "narsaq was found in weather data\n",
      "narasannapeta was found in weather data\n",
      "lebu was found in weather data\n",
      "mae hong son was found in weather data\n",
      "port lincoln was found in weather data\n",
      "padang was found in weather data\n",
      "norman wells was found in weather data\n",
      "cape town was found in weather data\n",
      "hithadhoo was found in weather data\n",
      "cidreira was found in weather data\n",
      "qaanaaq was found in weather data\n",
      "hlukhiv was found in weather data\n",
      "longyearbyen was found in weather data\n",
      "leningradskiy was found in weather data\n",
      "vaini was found in weather data\n",
      "kieta was found in weather data\n",
      "bredasdorp was found in weather data\n",
      "adre was found in weather data\n",
      "hermanus was found in weather data\n",
      "pevek was found in weather data\n",
      "mahebourg was found in weather data\n",
      "tuatapere was found in weather data\n",
      "namatanai was found in weather data\n",
      "utiel was found in weather data\n",
      "tolaga bay was found in weather data\n",
      "End of City list\n"
     ]
    }
   ],
   "source": [
    "# Create a base url\n",
    "base_url = \"http://api.openweathermap.org/data/2.5/weather?units=imperial&appid=\" + weather_api_key\n",
    "#print(base_url)\n",
    "\n",
    "# Create the lists to hold relative data\n",
    "found_cities =[]\n",
    "cloudiness = []\n",
    "country = []\n",
    "date = []\n",
    "humidity = []\n",
    "lat = []\n",
    "lng = []\n",
    "max_temp = []\n",
    "wind_speed = []\n",
    "\n",
    "# Create a query url for each city in the cities list to get json response\n",
    "\n",
    "print(\"Processing API calls from Open Weather\")\n",
    "for city in cities:\n",
    "    \n",
    "    time.sleep(1)\n",
    "         \n",
    "    # Create API url for each city\n",
    "    query_url = base_url +\"&q=\" + city\n",
    "    \n",
    "    # Get json respose for each city\n",
    "    response = requests.get(query_url).json()\n",
    "\n",
    "   # Add the values to the lists\n",
    "    try:       \n",
    "        found_cities.append(response[\"name\"])\n",
    "        cloudiness.append(response[\"clouds\"][\"all\"])\n",
    "        country.append(response[\"sys\"][\"country\"])\n",
    "        date.append(response[\"dt\"])\n",
    "        humidity.append(response[\"main\"][\"humidity\"])\n",
    "        lat.append(response[\"coord\"][\"lat\"])\n",
    "        lng.append(response[\"coord\"][\"lon\"])\n",
    "        max_temp.append(response[\"main\"][\"temp_max\"])\n",
    "        wind_speed.append(response[\"wind\"][\"speed\"])\n",
    "\n",
    "        print(f\"{city} was found in weather data\") \n",
    "        \n",
    "    except KeyError:\n",
    "        print(f\"{city} not found. Skipping...\")\n",
    "        pass\n",
    "        \n",
    "print(\"End of City list\")\n",
    "\n"
   ]
  },
  {
   "cell_type": "code",
   "execution_count": 28,
   "metadata": {},
   "outputs": [
    {
     "data": {
      "text/html": [
       "<div>\n",
       "<style scoped>\n",
       "    .dataframe tbody tr th:only-of-type {\n",
       "        vertical-align: middle;\n",
       "    }\n",
       "\n",
       "    .dataframe tbody tr th {\n",
       "        vertical-align: top;\n",
       "    }\n",
       "\n",
       "    .dataframe thead th {\n",
       "        text-align: right;\n",
       "    }\n",
       "</style>\n",
       "<table border=\"1\" class=\"dataframe\">\n",
       "  <thead>\n",
       "    <tr style=\"text-align: right;\">\n",
       "      <th></th>\n",
       "      <th>City</th>\n",
       "      <th>Lat</th>\n",
       "      <th>Lng</th>\n",
       "      <th>Cloudiness</th>\n",
       "      <th>Country</th>\n",
       "      <th>Date</th>\n",
       "      <th>Humidity</th>\n",
       "      <th>Max Temp</th>\n",
       "      <th>Wind Speed</th>\n",
       "    </tr>\n",
       "  </thead>\n",
       "  <tbody>\n",
       "    <tr>\n",
       "      <th>0</th>\n",
       "      <td>Baker City</td>\n",
       "      <td>44.77</td>\n",
       "      <td>-117.83</td>\n",
       "      <td>100</td>\n",
       "      <td>US</td>\n",
       "      <td>1603114737</td>\n",
       "      <td>67</td>\n",
       "      <td>48.00</td>\n",
       "      <td>2.62</td>\n",
       "    </tr>\n",
       "    <tr>\n",
       "      <th>1</th>\n",
       "      <td>Atuona</td>\n",
       "      <td>-9.80</td>\n",
       "      <td>-139.03</td>\n",
       "      <td>11</td>\n",
       "      <td>PF</td>\n",
       "      <td>1603114738</td>\n",
       "      <td>74</td>\n",
       "      <td>78.10</td>\n",
       "      <td>20.33</td>\n",
       "    </tr>\n",
       "    <tr>\n",
       "      <th>2</th>\n",
       "      <td>Fairbanks</td>\n",
       "      <td>64.84</td>\n",
       "      <td>-147.72</td>\n",
       "      <td>100</td>\n",
       "      <td>US</td>\n",
       "      <td>1603114702</td>\n",
       "      <td>84</td>\n",
       "      <td>17.01</td>\n",
       "      <td>1.12</td>\n",
       "    </tr>\n",
       "    <tr>\n",
       "      <th>3</th>\n",
       "      <td>Rikitea</td>\n",
       "      <td>-23.12</td>\n",
       "      <td>-134.97</td>\n",
       "      <td>0</td>\n",
       "      <td>PF</td>\n",
       "      <td>1603114742</td>\n",
       "      <td>80</td>\n",
       "      <td>73.58</td>\n",
       "      <td>16.35</td>\n",
       "    </tr>\n",
       "    <tr>\n",
       "      <th>4</th>\n",
       "      <td>Kahului</td>\n",
       "      <td>20.89</td>\n",
       "      <td>-156.47</td>\n",
       "      <td>100</td>\n",
       "      <td>US</td>\n",
       "      <td>1603114520</td>\n",
       "      <td>87</td>\n",
       "      <td>72.00</td>\n",
       "      <td>1.99</td>\n",
       "    </tr>\n",
       "    <tr>\n",
       "      <th>...</th>\n",
       "      <td>...</td>\n",
       "      <td>...</td>\n",
       "      <td>...</td>\n",
       "      <td>...</td>\n",
       "      <td>...</td>\n",
       "      <td>...</td>\n",
       "      <td>...</td>\n",
       "      <td>...</td>\n",
       "      <td>...</td>\n",
       "    </tr>\n",
       "    <tr>\n",
       "      <th>70</th>\n",
       "      <td>Mahébourg</td>\n",
       "      <td>-20.41</td>\n",
       "      <td>57.70</td>\n",
       "      <td>20</td>\n",
       "      <td>MU</td>\n",
       "      <td>1603114889</td>\n",
       "      <td>61</td>\n",
       "      <td>78.80</td>\n",
       "      <td>18.34</td>\n",
       "    </tr>\n",
       "    <tr>\n",
       "      <th>71</th>\n",
       "      <td>Tuatapere</td>\n",
       "      <td>-46.13</td>\n",
       "      <td>167.68</td>\n",
       "      <td>68</td>\n",
       "      <td>NZ</td>\n",
       "      <td>1603114890</td>\n",
       "      <td>88</td>\n",
       "      <td>46.99</td>\n",
       "      <td>10.00</td>\n",
       "    </tr>\n",
       "    <tr>\n",
       "      <th>72</th>\n",
       "      <td>Namatanai</td>\n",
       "      <td>-3.67</td>\n",
       "      <td>152.43</td>\n",
       "      <td>12</td>\n",
       "      <td>PG</td>\n",
       "      <td>1603114683</td>\n",
       "      <td>74</td>\n",
       "      <td>80.55</td>\n",
       "      <td>3.56</td>\n",
       "    </tr>\n",
       "    <tr>\n",
       "      <th>73</th>\n",
       "      <td>Utiel</td>\n",
       "      <td>39.57</td>\n",
       "      <td>-1.20</td>\n",
       "      <td>0</td>\n",
       "      <td>ES</td>\n",
       "      <td>1603114892</td>\n",
       "      <td>40</td>\n",
       "      <td>72.00</td>\n",
       "      <td>3.00</td>\n",
       "    </tr>\n",
       "    <tr>\n",
       "      <th>74</th>\n",
       "      <td>Tolaga Bay</td>\n",
       "      <td>-38.37</td>\n",
       "      <td>178.30</td>\n",
       "      <td>100</td>\n",
       "      <td>NZ</td>\n",
       "      <td>1603114894</td>\n",
       "      <td>75</td>\n",
       "      <td>60.48</td>\n",
       "      <td>6.71</td>\n",
       "    </tr>\n",
       "  </tbody>\n",
       "</table>\n",
       "<p>75 rows × 9 columns</p>\n",
       "</div>"
      ],
      "text/plain": [
       "          City    Lat     Lng  Cloudiness Country        Date  Humidity  \\\n",
       "0   Baker City  44.77 -117.83         100      US  1603114737        67   \n",
       "1       Atuona  -9.80 -139.03          11      PF  1603114738        74   \n",
       "2    Fairbanks  64.84 -147.72         100      US  1603114702        84   \n",
       "3      Rikitea -23.12 -134.97           0      PF  1603114742        80   \n",
       "4      Kahului  20.89 -156.47         100      US  1603114520        87   \n",
       "..         ...    ...     ...         ...     ...         ...       ...   \n",
       "70   Mahébourg -20.41   57.70          20      MU  1603114889        61   \n",
       "71   Tuatapere -46.13  167.68          68      NZ  1603114890        88   \n",
       "72   Namatanai  -3.67  152.43          12      PG  1603114683        74   \n",
       "73       Utiel  39.57   -1.20           0      ES  1603114892        40   \n",
       "74  Tolaga Bay -38.37  178.30         100      NZ  1603114894        75   \n",
       "\n",
       "    Max Temp  Wind Speed  \n",
       "0      48.00        2.62  \n",
       "1      78.10       20.33  \n",
       "2      17.01        1.12  \n",
       "3      73.58       16.35  \n",
       "4      72.00        1.99  \n",
       "..       ...         ...  \n",
       "70     78.80       18.34  \n",
       "71     46.99       10.00  \n",
       "72     80.55        3.56  \n",
       "73     72.00        3.00  \n",
       "74     60.48        6.71  \n",
       "\n",
       "[75 rows x 9 columns]"
      ]
     },
     "execution_count": 28,
     "metadata": {},
     "output_type": "execute_result"
    }
   ],
   "source": [
    "#Create Dictionary\n",
    "\n",
    "weather_raw_data = {\n",
    "    \"City\": found_cities,\n",
    "    \"Lat\": lat,\n",
    "    \"Lng\": lng,\n",
    "    \"Cloudiness\": cloudiness,\n",
    "    \"Country\": country,\n",
    "    \"Date\": date,\n",
    "    \"Humidity\": humidity,\n",
    "    \"Max Temp\": max_temp,\n",
    "    \"Wind Speed\": wind_speed    \n",
    "    }\n",
    "\n",
    "#Create Data Frame\n",
    "weather_df = pd.DataFrame.from_dict(weather_raw_data, orient= 'columns')\n",
    "weather_df\n",
    "\n",
    "#export to csv\n"
   ]
  },
  {
   "cell_type": "code",
   "execution_count": null,
   "metadata": {},
   "outputs": [],
   "source": [
    "\n"
   ]
  },
  {
   "cell_type": "markdown",
   "metadata": {},
   "source": [
    "## Plotting the Data\n",
    "* Use proper labeling of the plots using plot titles (including date of analysis) and axes labels.\n",
    "* Save the plotted figures as .pngs."
   ]
  },
  {
   "cell_type": "markdown",
   "metadata": {},
   "source": [
    "### Latitude vs. Temperature Plot"
   ]
  },
  {
   "cell_type": "code",
   "execution_count": null,
   "metadata": {
    "scrolled": true
   },
   "outputs": [],
   "source": []
  },
  {
   "cell_type": "markdown",
   "metadata": {},
   "source": [
    "### Latitude vs. Humidity Plot"
   ]
  },
  {
   "cell_type": "code",
   "execution_count": null,
   "metadata": {},
   "outputs": [],
   "source": []
  },
  {
   "cell_type": "markdown",
   "metadata": {},
   "source": [
    "### Latitude vs. Cloudiness Plot"
   ]
  },
  {
   "cell_type": "code",
   "execution_count": null,
   "metadata": {},
   "outputs": [],
   "source": []
  },
  {
   "cell_type": "markdown",
   "metadata": {},
   "source": [
    "### Latitude vs. Wind Speed Plot"
   ]
  },
  {
   "cell_type": "code",
   "execution_count": null,
   "metadata": {},
   "outputs": [],
   "source": []
  },
  {
   "cell_type": "markdown",
   "metadata": {},
   "source": [
    "## Linear Regression"
   ]
  },
  {
   "cell_type": "markdown",
   "metadata": {},
   "source": [
    "### Write linear regression plot function (optional)"
   ]
  },
  {
   "cell_type": "code",
   "execution_count": null,
   "metadata": {},
   "outputs": [],
   "source": []
  },
  {
   "cell_type": "markdown",
   "metadata": {},
   "source": [
    "###  Northern Hemisphere - Max Temp vs. Latitude Linear Regression"
   ]
  },
  {
   "cell_type": "code",
   "execution_count": null,
   "metadata": {},
   "outputs": [],
   "source": []
  },
  {
   "cell_type": "markdown",
   "metadata": {},
   "source": [
    "###  Southern Hemisphere - Max Temp vs. Latitude Linear Regression"
   ]
  },
  {
   "cell_type": "code",
   "execution_count": null,
   "metadata": {},
   "outputs": [],
   "source": []
  },
  {
   "cell_type": "markdown",
   "metadata": {},
   "source": [
    "###  Northern Hemisphere - Humidity (%) vs. Latitude Linear Regression"
   ]
  },
  {
   "cell_type": "code",
   "execution_count": null,
   "metadata": {},
   "outputs": [],
   "source": []
  },
  {
   "cell_type": "markdown",
   "metadata": {},
   "source": [
    "###  Southern Hemisphere - Humidity (%) vs. Latitude Linear Regression"
   ]
  },
  {
   "cell_type": "code",
   "execution_count": null,
   "metadata": {},
   "outputs": [],
   "source": []
  },
  {
   "cell_type": "markdown",
   "metadata": {},
   "source": [
    "###  Northern Hemisphere - Cloudiness (%) vs. Latitude Linear Regression"
   ]
  },
  {
   "cell_type": "code",
   "execution_count": null,
   "metadata": {},
   "outputs": [],
   "source": []
  },
  {
   "cell_type": "markdown",
   "metadata": {},
   "source": [
    "###  Southern Hemisphere - Cloudiness (%) vs. Latitude Linear Regression"
   ]
  },
  {
   "cell_type": "code",
   "execution_count": null,
   "metadata": {},
   "outputs": [],
   "source": []
  },
  {
   "cell_type": "markdown",
   "metadata": {},
   "source": [
    "###  Northern Hemisphere - Wind Speed (mph) vs. Latitude Linear Regression"
   ]
  },
  {
   "cell_type": "code",
   "execution_count": null,
   "metadata": {},
   "outputs": [],
   "source": []
  },
  {
   "cell_type": "markdown",
   "metadata": {},
   "source": [
    "###  Southern Hemisphere - Wind Speed (mph) vs. Latitude Linear Regression"
   ]
  },
  {
   "cell_type": "code",
   "execution_count": null,
   "metadata": {},
   "outputs": [],
   "source": []
  },
  {
   "cell_type": "code",
   "execution_count": null,
   "metadata": {},
   "outputs": [],
   "source": []
  },
  {
   "cell_type": "code",
   "execution_count": null,
   "metadata": {},
   "outputs": [],
   "source": []
  }
 ],
 "metadata": {
  "anaconda-cloud": {},
  "kernel_info": {
   "name": "python3"
  },
  "kernelspec": {
   "display_name": "Python 3",
   "language": "python",
   "name": "python3"
  },
  "language_info": {
   "codemirror_mode": {
    "name": "ipython",
    "version": 3
   },
   "file_extension": ".py",
   "mimetype": "text/x-python",
   "name": "python",
   "nbconvert_exporter": "python",
   "pygments_lexer": "ipython3",
   "version": "3.8.5"
  },
  "latex_envs": {
   "LaTeX_envs_menu_present": true,
   "autoclose": false,
   "autocomplete": true,
   "bibliofile": "biblio.bib",
   "cite_by": "apalike",
   "current_citInitial": 1,
   "eqLabelWithNumbers": true,
   "eqNumInitial": 1,
   "hotkeys": {
    "equation": "Ctrl-E",
    "itemize": "Ctrl-I"
   },
   "labels_anchors": false,
   "latex_user_defs": false,
   "report_style_numbering": false,
   "user_envs_cfg": false
  },
  "nteract": {
   "version": "0.12.3"
  },
  "toc": {
   "base_numbering": 1,
   "nav_menu": {},
   "number_sections": true,
   "sideBar": true,
   "skip_h1_title": false,
   "title_cell": "Table of Contents",
   "title_sidebar": "Contents",
   "toc_cell": false,
   "toc_position": {},
   "toc_section_display": true,
   "toc_window_display": false
  },
  "varInspector": {
   "cols": {
    "lenName": 16,
    "lenType": 16,
    "lenVar": 40
   },
   "kernels_config": {
    "python": {
     "delete_cmd_postfix": "",
     "delete_cmd_prefix": "del ",
     "library": "var_list.py",
     "varRefreshCmd": "print(var_dic_list())"
    },
    "r": {
     "delete_cmd_postfix": ") ",
     "delete_cmd_prefix": "rm(",
     "library": "var_list.r",
     "varRefreshCmd": "cat(var_dic_list()) "
    }
   },
   "types_to_exclude": [
    "module",
    "function",
    "builtin_function_or_method",
    "instance",
    "_Feature"
   ],
   "window_display": false
  }
 },
 "nbformat": 4,
 "nbformat_minor": 2
}

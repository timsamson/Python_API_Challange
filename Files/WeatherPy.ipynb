{
 "cells": [
  {
   "cell_type": "markdown",
   "metadata": {},
   "source": [
    "# WeatherPy\n",
    "----\n",
    "\n",
    "#### Note\n",
    "* Instructions have been included for each segment. You do not have to follow them exactly, but they are included to help you think through the steps."
   ]
  },
  {
   "cell_type": "code",
   "execution_count": 14,
   "metadata": {
    "scrolled": true
   },
   "outputs": [],
   "source": [
    "# Dependencies and Setup\n",
    "import matplotlib.pyplot as plt\n",
    "import pandas as pd\n",
    "import numpy as np\n",
    "import requests\n",
    "import time\n",
    "import datetime\n",
    "import scipy.stats as st\n",
    "from scipy.stats import linregress\n",
    "\n",
    "# Import API key\n",
    "from api_keys import weather_api_key\n",
    "\n",
    "# Incorporated citipy to determine city based on latitude and longitude\n",
    "from citipy import citipy\n",
    "\n",
    "# Output File (CSV)\n",
    "output_data_file = \"output_data/cities.csv\"\n",
    "\n",
    "# Range of latitudes and longitudes\n",
    "lat_range = (-90, 90)\n",
    "lng_range = (-180, 180)\n"
   ]
  },
  {
   "cell_type": "markdown",
   "metadata": {},
   "source": [
    "## Generate Cities List"
   ]
  },
  {
   "cell_type": "code",
   "execution_count": 4,
   "metadata": {},
   "outputs": [
    {
     "name": "stdout",
     "output_type": "stream",
     "text": [
      "['dikson', 'ushuaia', 'iqaluit', 'souillac', 'zhezkazgan', 'omboue', 'golden', 'illoqqortoormiut', 'ostrovnoy', 'yumen', 'mar del plata', 'cape town', 'ancud', 'santa cruz', 'vaini', 'sao filipe', 'belaya gora', 'zhigansk', 'vangaindrano', 'grand river south east', 'atuona', 'kindersley', 'hilo', 'havre-saint-pierre', 'portland', 'manta', 'north platte', 'jamestown', 'kodiak', 'busselton', 'hermanus', 'butaritari', 'labuhan', 'lincoln', 'rantepao', 'puerto ayora', 'vila franca do campo', 'punta arenas', 'thompson', 'usinsk', 'kapaa', 'east london', 'wamba', 'belushya guba', 'rikitea', 'sibolga', 'ilhabela', 'taolanaro', 'airai', 'khatanga', 'mariental', 'namibe', 'tarudant', 'hobbs', 'mahebourg', 'matara', 'samusu', 'mataura', 'cabo san lucas', 'sakakah', 'hamilton', 'taoudenni', 'staroutkinsk', 'kavaratti', 'amderma', 'lebu', 'fartura', 'vaitape', 'priladozhskiy', 'castro', 'micheweni', 'coihaique', 'qaanaaq', 'makakilo city', 'crossville', 'yola', 'albany', 'sol-iletsk', 'nguiu', 'barentsburg']\n"
     ]
    },
    {
     "data": {
      "text/plain": [
       "80"
      ]
     },
     "execution_count": 4,
     "metadata": {},
     "output_type": "execute_result"
    }
   ],
   "source": [
    "# List for holding lat_lngs and cities\n",
    "lat_lngs = []\n",
    "cities = []\n",
    "\n",
    "# Create a set of random lat and lng combinations\n",
    "#lats = np.random.uniform(lat_range[0], lat_range[1], size=1500)\n",
    "#lngs = np.random.uniform(lng_range[0], lng_range[1], size=1500)\n",
    "\n",
    "#Sample Set\n",
    "lats = np.random.uniform(lat_range[0], lat_range[1], size=100)\n",
    "lngs = np.random.uniform(lng_range[0], lng_range[1], size=100)\n",
    "\n",
    "lat_lngs = zip(lats, lngs)\n",
    "\n",
    "# Identify nearest city for each lat, lng combination\n",
    "for lat_lng in lat_lngs:\n",
    "    city = citipy.nearest_city(lat_lng[0], lat_lng[1]).city_name\n",
    "    \n",
    "    # If the city is unique, then add it to a our cities list\n",
    "    if city not in cities:\n",
    "        cities.append(city)\n",
    "print(cities)\n",
    "\n",
    "# Print the city count to confirm sufficient count\n",
    "len(cities)"
   ]
  },
  {
   "cell_type": "markdown",
   "metadata": {},
   "source": [
    "## Perform API Calls\n",
    "* Perform a weather check on each city using a series of successive API calls.\n",
    "* Include a print log of each city as it'sbeing processed (with the city number and city name).\n"
   ]
  },
  {
   "cell_type": "code",
   "execution_count": 5,
   "metadata": {
    "scrolled": true
   },
   "outputs": [
    {
     "name": "stdout",
     "output_type": "stream",
     "text": [
      "Processing API calls from Open Weather\n",
      "dikson was found in weather data\n",
      "ushuaia was found in weather data\n",
      "iqaluit was found in weather data\n",
      "souillac was found in weather data\n",
      "zhezkazgan was found in weather data\n",
      "omboue was found in weather data\n",
      "golden was found in weather data\n",
      "illoqqortoormiut not found. Skipped\n",
      "ostrovnoy was found in weather data\n",
      "yumen was found in weather data\n",
      "mar del plata was found in weather data\n",
      "cape town was found in weather data\n",
      "ancud was found in weather data\n",
      "santa cruz was found in weather data\n",
      "vaini was found in weather data\n",
      "sao filipe was found in weather data\n",
      "belaya gora was found in weather data\n",
      "zhigansk was found in weather data\n",
      "vangaindrano was found in weather data\n",
      "grand river south east not found. Skipped\n",
      "atuona was found in weather data\n",
      "kindersley was found in weather data\n",
      "hilo was found in weather data\n",
      "havre-saint-pierre was found in weather data\n",
      "portland was found in weather data\n",
      "manta was found in weather data\n",
      "north platte was found in weather data\n",
      "jamestown was found in weather data\n",
      "kodiak was found in weather data\n",
      "busselton was found in weather data\n",
      "hermanus was found in weather data\n",
      "butaritari was found in weather data\n",
      "labuhan was found in weather data\n",
      "lincoln was found in weather data\n",
      "rantepao was found in weather data\n",
      "puerto ayora was found in weather data\n",
      "vila franca do campo was found in weather data\n",
      "punta arenas was found in weather data\n",
      "thompson was found in weather data\n",
      "usinsk was found in weather data\n",
      "kapaa was found in weather data\n",
      "east london was found in weather data\n",
      "wamba was found in weather data\n",
      "belushya guba not found. Skipped\n",
      "rikitea was found in weather data\n",
      "sibolga was found in weather data\n",
      "ilhabela was found in weather data\n",
      "taolanaro not found. Skipped\n",
      "airai was found in weather data\n",
      "khatanga was found in weather data\n",
      "mariental was found in weather data\n",
      "namibe was found in weather data\n",
      "tarudant not found. Skipped\n",
      "hobbs was found in weather data\n",
      "mahebourg was found in weather data\n",
      "matara was found in weather data\n",
      "samusu not found. Skipped\n",
      "mataura was found in weather data\n",
      "cabo san lucas was found in weather data\n",
      "sakakah was found in weather data\n",
      "hamilton was found in weather data\n",
      "taoudenni was found in weather data\n",
      "staroutkinsk was found in weather data\n",
      "kavaratti was found in weather data\n",
      "amderma not found. Skipped\n",
      "lebu was found in weather data\n",
      "fartura was found in weather data\n",
      "vaitape was found in weather data\n",
      "priladozhskiy was found in weather data\n",
      "castro was found in weather data\n",
      "micheweni was found in weather data\n",
      "coihaique was found in weather data\n",
      "qaanaaq was found in weather data\n",
      "makakilo city was found in weather data\n",
      "crossville was found in weather data\n",
      "yola was found in weather data\n",
      "albany was found in weather data\n",
      "sol-iletsk was found in weather data\n",
      "nguiu not found. Skipped\n",
      "barentsburg not found. Skipped\n",
      "End of City list\n"
     ]
    }
   ],
   "source": [
    "# Create a base url\n",
    "base_url = \"http://api.openweathermap.org/data/2.5/weather?units=imperial&appid=\" + weather_api_key\n",
    "#print(base_url)\n",
    "\n",
    "# Create the lists to hold relative data\n",
    "found_cities =[]\n",
    "cloudiness = []\n",
    "country = []\n",
    "date = []\n",
    "humidity = []\n",
    "lat = []\n",
    "lng = []\n",
    "max_temp = []\n",
    "wind_speed = []\n",
    "\n",
    "# Create a query url for each city in the cities list to get json response\n",
    "\n",
    "print(\"Processing API calls from Open Weather\")\n",
    "for city in cities:\n",
    "    \n",
    "    time.sleep(1)\n",
    "         \n",
    "    # Create API url for each city\n",
    "    query_url = base_url +\"&q=\" + city\n",
    "\n",
    "    \n",
    "    # Get json respose for each city\n",
    "    response = requests.get(query_url).json()\n",
    "\n",
    "   # Add the values to the lists\n",
    "    try:       \n",
    "        found_cities.append(response[\"name\"])\n",
    "        cloudiness.append(response[\"clouds\"][\"all\"])\n",
    "        country.append(response[\"sys\"][\"country\"])\n",
    "        date.append(response[\"dt\"])\n",
    "        humidity.append(response[\"main\"][\"humidity\"])\n",
    "        lat.append(response[\"coord\"][\"lat\"])\n",
    "        lng.append(response[\"coord\"][\"lon\"])\n",
    "        max_temp.append(response[\"main\"][\"temp_max\"])\n",
    "        wind_speed.append(response[\"wind\"][\"speed\"])\n",
    "\n",
    "        print(f\"{city} was found in weather data\") \n",
    "        \n",
    "    except KeyError:\n",
    "        print(f\"{city} not found. Skipped\")\n",
    "        pass\n",
    "        \n",
    "print(\"End of City list\")\n",
    "\n"
   ]
  },
  {
   "cell_type": "code",
   "execution_count": 51,
   "metadata": {},
   "outputs": [
    {
     "data": {
      "text/html": [
       "<div>\n",
       "<style scoped>\n",
       "    .dataframe tbody tr th:only-of-type {\n",
       "        vertical-align: middle;\n",
       "    }\n",
       "\n",
       "    .dataframe tbody tr th {\n",
       "        vertical-align: top;\n",
       "    }\n",
       "\n",
       "    .dataframe thead th {\n",
       "        text-align: right;\n",
       "    }\n",
       "</style>\n",
       "<table border=\"1\" class=\"dataframe\">\n",
       "  <thead>\n",
       "    <tr style=\"text-align: right;\">\n",
       "      <th></th>\n",
       "      <th>City</th>\n",
       "      <th>Latitude</th>\n",
       "      <th>Lng</th>\n",
       "      <th>Cloudiness</th>\n",
       "      <th>Country</th>\n",
       "      <th>Date</th>\n",
       "      <th>Humidity</th>\n",
       "      <th>Max Temp</th>\n",
       "      <th>Wind Speed</th>\n",
       "    </tr>\n",
       "  </thead>\n",
       "  <tbody>\n",
       "    <tr>\n",
       "      <th>0</th>\n",
       "      <td>Dikson</td>\n",
       "      <td>73.51</td>\n",
       "      <td>80.55</td>\n",
       "      <td>93</td>\n",
       "      <td>RU</td>\n",
       "      <td>1603130569</td>\n",
       "      <td>95</td>\n",
       "      <td>23.76</td>\n",
       "      <td>17.87</td>\n",
       "    </tr>\n",
       "    <tr>\n",
       "      <th>1</th>\n",
       "      <td>Ushuaia</td>\n",
       "      <td>-54.80</td>\n",
       "      <td>-68.30</td>\n",
       "      <td>75</td>\n",
       "      <td>AR</td>\n",
       "      <td>1603130276</td>\n",
       "      <td>86</td>\n",
       "      <td>39.20</td>\n",
       "      <td>34.45</td>\n",
       "    </tr>\n",
       "    <tr>\n",
       "      <th>2</th>\n",
       "      <td>Iqaluit</td>\n",
       "      <td>63.75</td>\n",
       "      <td>-68.51</td>\n",
       "      <td>29</td>\n",
       "      <td>CA</td>\n",
       "      <td>1603130565</td>\n",
       "      <td>74</td>\n",
       "      <td>33.01</td>\n",
       "      <td>4.00</td>\n",
       "    </tr>\n",
       "    <tr>\n",
       "      <th>3</th>\n",
       "      <td>Souillac</td>\n",
       "      <td>-20.52</td>\n",
       "      <td>57.52</td>\n",
       "      <td>40</td>\n",
       "      <td>MU</td>\n",
       "      <td>1603130568</td>\n",
       "      <td>69</td>\n",
       "      <td>75.20</td>\n",
       "      <td>11.41</td>\n",
       "    </tr>\n",
       "    <tr>\n",
       "      <th>4</th>\n",
       "      <td>Zhezkazgan</td>\n",
       "      <td>47.80</td>\n",
       "      <td>67.71</td>\n",
       "      <td>19</td>\n",
       "      <td>KZ</td>\n",
       "      <td>1603130304</td>\n",
       "      <td>46</td>\n",
       "      <td>51.22</td>\n",
       "      <td>8.10</td>\n",
       "    </tr>\n",
       "    <tr>\n",
       "      <th>...</th>\n",
       "      <td>...</td>\n",
       "      <td>...</td>\n",
       "      <td>...</td>\n",
       "      <td>...</td>\n",
       "      <td>...</td>\n",
       "      <td>...</td>\n",
       "      <td>...</td>\n",
       "      <td>...</td>\n",
       "      <td>...</td>\n",
       "    </tr>\n",
       "    <tr>\n",
       "      <th>66</th>\n",
       "      <td>Makakilo City</td>\n",
       "      <td>21.35</td>\n",
       "      <td>-158.09</td>\n",
       "      <td>75</td>\n",
       "      <td>US</td>\n",
       "      <td>1603130879</td>\n",
       "      <td>83</td>\n",
       "      <td>78.80</td>\n",
       "      <td>4.70</td>\n",
       "    </tr>\n",
       "    <tr>\n",
       "      <th>67</th>\n",
       "      <td>Crossville</td>\n",
       "      <td>35.95</td>\n",
       "      <td>-85.03</td>\n",
       "      <td>1</td>\n",
       "      <td>US</td>\n",
       "      <td>1603130657</td>\n",
       "      <td>60</td>\n",
       "      <td>71.01</td>\n",
       "      <td>5.82</td>\n",
       "    </tr>\n",
       "    <tr>\n",
       "      <th>68</th>\n",
       "      <td>Yola</td>\n",
       "      <td>9.20</td>\n",
       "      <td>12.48</td>\n",
       "      <td>9</td>\n",
       "      <td>NG</td>\n",
       "      <td>1603130882</td>\n",
       "      <td>45</td>\n",
       "      <td>84.54</td>\n",
       "      <td>3.42</td>\n",
       "    </tr>\n",
       "    <tr>\n",
       "      <th>69</th>\n",
       "      <td>Albany</td>\n",
       "      <td>42.60</td>\n",
       "      <td>-73.97</td>\n",
       "      <td>85</td>\n",
       "      <td>US</td>\n",
       "      <td>1603130394</td>\n",
       "      <td>69</td>\n",
       "      <td>60.01</td>\n",
       "      <td>7.27</td>\n",
       "    </tr>\n",
       "    <tr>\n",
       "      <th>70</th>\n",
       "      <td>Sol'-Iletsk</td>\n",
       "      <td>51.16</td>\n",
       "      <td>54.99</td>\n",
       "      <td>95</td>\n",
       "      <td>RU</td>\n",
       "      <td>1603130884</td>\n",
       "      <td>38</td>\n",
       "      <td>54.32</td>\n",
       "      <td>6.15</td>\n",
       "    </tr>\n",
       "  </tbody>\n",
       "</table>\n",
       "<p>71 rows × 9 columns</p>\n",
       "</div>"
      ],
      "text/plain": [
       "             City  Latitude     Lng  Cloudiness Country        Date  Humidity  \\\n",
       "0          Dikson     73.51   80.55          93      RU  1603130569        95   \n",
       "1         Ushuaia    -54.80  -68.30          75      AR  1603130276        86   \n",
       "2         Iqaluit     63.75  -68.51          29      CA  1603130565        74   \n",
       "3        Souillac    -20.52   57.52          40      MU  1603130568        69   \n",
       "4      Zhezkazgan     47.80   67.71          19      KZ  1603130304        46   \n",
       "..            ...       ...     ...         ...     ...         ...       ...   \n",
       "66  Makakilo City     21.35 -158.09          75      US  1603130879        83   \n",
       "67     Crossville     35.95  -85.03           1      US  1603130657        60   \n",
       "68           Yola      9.20   12.48           9      NG  1603130882        45   \n",
       "69         Albany     42.60  -73.97          85      US  1603130394        69   \n",
       "70    Sol'-Iletsk     51.16   54.99          95      RU  1603130884        38   \n",
       "\n",
       "    Max Temp  Wind Speed  \n",
       "0      23.76       17.87  \n",
       "1      39.20       34.45  \n",
       "2      33.01        4.00  \n",
       "3      75.20       11.41  \n",
       "4      51.22        8.10  \n",
       "..       ...         ...  \n",
       "66     78.80        4.70  \n",
       "67     71.01        5.82  \n",
       "68     84.54        3.42  \n",
       "69     60.01        7.27  \n",
       "70     54.32        6.15  \n",
       "\n",
       "[71 rows x 9 columns]"
      ]
     },
     "execution_count": 51,
     "metadata": {},
     "output_type": "execute_result"
    }
   ],
   "source": [
    "#Create Dictionary\n",
    "\n",
    "weather_raw_data = {\n",
    "    \"City\": found_cities,\n",
    "    \"Latitude\": lat,\n",
    "    \"Lng\": lng,\n",
    "    \"Cloudiness\": cloudiness,\n",
    "    \"Country\": country,\n",
    "    \"Date\": date,\n",
    "    \"Humidity\": humidity,\n",
    "    \"Max Temp\": max_temp,\n",
    "    \"Wind Speed\": wind_speed,\n",
    "    \"Date\":date\n",
    "    }\n",
    "\n",
    "#Create Data Frame\n",
    "weather_df = pd.DataFrame.from_dict(weather_raw_data, orient= 'columns')\n",
    "\n",
    "#export to cs\n",
    "weather_df.to_csv(\"output_data/cities.csv\", index = False)\n",
    "weather_df"
   ]
  },
  {
   "cell_type": "markdown",
   "metadata": {},
   "source": [
    "## Plotting the Data\n",
    "* Use proper labeling of the plots using plot titles (including date of analysis) and axes labels.\n",
    "* Save the plotted figures as .pngs."
   ]
  },
  {
   "cell_type": "markdown",
   "metadata": {},
   "source": [
    "### Latitude vs. Temperature Plot"
   ]
  },
  {
   "cell_type": "code",
   "execution_count": 52,
   "metadata": {},
   "outputs": [],
   "source": [
    "#Create Plot Dates\n",
    "plot_date =({datetime.datetime.now().strftime(\"%D\")})"
   ]
  },
  {
   "cell_type": "code",
   "execution_count": 54,
   "metadata": {
    "scrolled": true
   },
   "outputs": [
    {
     "ename": "TypeError",
     "evalue": "'str' object is not callable",
     "output_type": "error",
     "traceback": [
      "\u001b[0;31m---------------------------------------------------------------------------\u001b[0m",
      "\u001b[0;31mTypeError\u001b[0m                                 Traceback (most recent call last)",
      "\u001b[0;32m<ipython-input-54-77510a46e745>\u001b[0m in \u001b[0;36m<module>\u001b[0;34m\u001b[0m\n\u001b[1;32m      3\u001b[0m \u001b[0;34m\u001b[0m\u001b[0m\n\u001b[1;32m      4\u001b[0m \u001b[0;31m#title and labels\u001b[0m\u001b[0;34m\u001b[0m\u001b[0;34m\u001b[0m\u001b[0;34m\u001b[0m\u001b[0m\n\u001b[0;32m----> 5\u001b[0;31m \u001b[0mplt\u001b[0m\u001b[0;34m.\u001b[0m\u001b[0mtitle\u001b[0m\u001b[0;34m(\u001b[0m\u001b[0;34mf'Latitude vs. MAX Temperature ({datetime.datetime.now().strftime(\"%D\")})'\u001b[0m\u001b[0;34m)\u001b[0m\u001b[0;34m\u001b[0m\u001b[0;34m\u001b[0m\u001b[0m\n\u001b[0m\u001b[1;32m      6\u001b[0m \u001b[0mplt\u001b[0m\u001b[0;34m.\u001b[0m\u001b[0mxlabel\u001b[0m\u001b[0;34m(\u001b[0m\u001b[0;34m'Latitude'\u001b[0m\u001b[0;34m)\u001b[0m\u001b[0;34m\u001b[0m\u001b[0;34m\u001b[0m\u001b[0m\n\u001b[1;32m      7\u001b[0m \u001b[0mplt\u001b[0m\u001b[0;34m.\u001b[0m\u001b[0mylabel\u001b[0m\u001b[0;34m(\u001b[0m\u001b[0;34m'Max Temperature (F)'\u001b[0m\u001b[0;34m)\u001b[0m\u001b[0;34m\u001b[0m\u001b[0;34m\u001b[0m\u001b[0m\n",
      "\u001b[0;31mTypeError\u001b[0m: 'str' object is not callable"
     ]
    },
    {
     "data": {
      "image/png": "[encoded data removed]",
      "text/plain": [
       "<Figure size 432x288 with 1 Axes>"
      ]
     },
     "metadata": {
      "needs_background": "light"
     },
     "output_type": "display_data"
    }
   ],
   "source": [
    "#create plot\n",
    "plt.scatter(weather_df['Latitude'],weather_df['Max Temp'],edgecolors='black',facecolors='b')\n",
    "\n",
    "#title and labels\n",
    "plt.title(f'Latitude vs. MAX Temperature ({datetime.datetime.now().strftime(\"%D\")})')\n",
    "plt.xlabel('Latitude')\n",
    "plt.ylabel('Max Temperature (F)')\n",
    "plt.grid (b=True,which='major',axis='both',linestyle='-',color='lightgrey')\n",
    "\n",
    "#Save Plot\n",
    "plt.savefig(f'images/Latitude vs. MAX Temperature.png')"
   ]
  },
  {
   "cell_type": "markdown",
   "metadata": {},
   "source": [
    "### Latitude vs. Humidity Plot"
   ]
  },
  {
   "cell_type": "code",
   "execution_count": 46,
   "metadata": {},
   "outputs": [
    {
     "ename": "TypeError",
     "evalue": "'str' object is not callable",
     "output_type": "error",
     "traceback": [
      "\u001b[0;31m---------------------------------------------------------------------------\u001b[0m",
      "\u001b[0;31mTypeError\u001b[0m                                 Traceback (most recent call last)",
      "\u001b[0;32m<ipython-input-46-a54a9447dcb9>\u001b[0m in \u001b[0;36m<module>\u001b[0;34m\u001b[0m\n\u001b[1;32m      3\u001b[0m \u001b[0;34m\u001b[0m\u001b[0m\n\u001b[1;32m      4\u001b[0m \u001b[0;31m#title and labels\u001b[0m\u001b[0;34m\u001b[0m\u001b[0;34m\u001b[0m\u001b[0;34m\u001b[0m\u001b[0m\n\u001b[0;32m----> 5\u001b[0;31m \u001b[0mplt\u001b[0m\u001b[0;34m.\u001b[0m\u001b[0mtitle\u001b[0m\u001b[0;34m(\u001b[0m\u001b[0;34mf'Latitude vs. Humidity ({datetime.datetime.now().strftime(\"%D\")})'\u001b[0m\u001b[0;34m)\u001b[0m\u001b[0;34m\u001b[0m\u001b[0;34m\u001b[0m\u001b[0m\n\u001b[0m\u001b[1;32m      6\u001b[0m \u001b[0mplt\u001b[0m\u001b[0;34m.\u001b[0m\u001b[0mxlabel\u001b[0m\u001b[0;34m(\u001b[0m\u001b[0;34m'Latitude'\u001b[0m\u001b[0;34m)\u001b[0m\u001b[0;34m\u001b[0m\u001b[0;34m\u001b[0m\u001b[0m\n\u001b[1;32m      7\u001b[0m \u001b[0mplt\u001b[0m\u001b[0;34m.\u001b[0m\u001b[0mylabel\u001b[0m\u001b[0;34m(\u001b[0m\u001b[0;34m'Max Humidity'\u001b[0m\u001b[0;34m)\u001b[0m\u001b[0;34m\u001b[0m\u001b[0;34m\u001b[0m\u001b[0m\n",
      "\u001b[0;31mTypeError\u001b[0m: 'str' object is not callable"
     ]
    },
    {
     "data": {
      "image/png": "[encoded data removed]",
      "text/plain": [
       "<Figure size 432x288 with 1 Axes>"
      ]
     },
     "metadata": {
      "needs_background": "light"
     },
     "output_type": "display_data"
    }
   ],
   "source": [
    "#create plot\n",
    "plt.scatter(weather_df['Latitude'],weather_df['Humidity'],edgecolors='black',facecolors='orange')\n",
    "\n",
    "#title and labels\n",
    "plt.title(f'Latitude vs. Humidity ({datetime.datetime.now().strftime(\"%D\")})')\n",
    "plt.xlabel('Latitude')\n",
    "plt.ylabel('Max Humidity')\n",
    "plt.grid (b=True,which='major',axis='both',linestyle='-',color='lightgrey')\n",
    "\n",
    "#Save Plot\n",
    "plt.savefig(f\"Images/Latitude vs. Humidity.png\")"
   ]
  },
  {
   "cell_type": "markdown",
   "metadata": {},
   "source": [
    "### Latitude vs. Cloudiness Plot"
   ]
  },
  {
   "cell_type": "code",
   "execution_count": 45,
   "metadata": {},
   "outputs": [
    {
     "ename": "TypeError",
     "evalue": "'str' object is not callable",
     "output_type": "error",
     "traceback": [
      "\u001b[0;31m---------------------------------------------------------------------------\u001b[0m",
      "\u001b[0;31mTypeError\u001b[0m                                 Traceback (most recent call last)",
      "\u001b[0;32m<ipython-input-45-16e07a6d9279>\u001b[0m in \u001b[0;36m<module>\u001b[0;34m\u001b[0m\n\u001b[1;32m      3\u001b[0m \u001b[0;34m\u001b[0m\u001b[0m\n\u001b[1;32m      4\u001b[0m \u001b[0;31m#titles and lables\u001b[0m\u001b[0;34m\u001b[0m\u001b[0;34m\u001b[0m\u001b[0;34m\u001b[0m\u001b[0m\n\u001b[0;32m----> 5\u001b[0;31m \u001b[0mplt\u001b[0m\u001b[0;34m.\u001b[0m\u001b[0mtitle\u001b[0m\u001b[0;34m(\u001b[0m\u001b[0;34mf'Latitude vs. Cloudiness ({datetime.datetime.now().strftime(\"%D\")})'\u001b[0m\u001b[0;34m)\u001b[0m\u001b[0;34m\u001b[0m\u001b[0;34m\u001b[0m\u001b[0m\n\u001b[0m\u001b[1;32m      6\u001b[0m \u001b[0mplt\u001b[0m\u001b[0;34m.\u001b[0m\u001b[0mxlabel\u001b[0m\u001b[0;34m(\u001b[0m\u001b[0;34m'Latitude'\u001b[0m\u001b[0;34m)\u001b[0m\u001b[0;34m\u001b[0m\u001b[0;34m\u001b[0m\u001b[0m\n\u001b[1;32m      7\u001b[0m \u001b[0mplt\u001b[0m\u001b[0;34m.\u001b[0m\u001b[0mylabel\u001b[0m\u001b[0;34m(\u001b[0m\u001b[0;34m'Cloudiness (%)'\u001b[0m\u001b[0;34m)\u001b[0m\u001b[0;34m\u001b[0m\u001b[0;34m\u001b[0m\u001b[0m\n",
      "\u001b[0;31mTypeError\u001b[0m: 'str' object is not callable"
     ]
    },
    {
     "data": {
      "image/png": "[encoded data removed]",
      "text/plain": [
       "<Figure size 432x288 with 1 Axes>"
      ]
     },
     "metadata": {
      "needs_background": "light"
     },
     "output_type": "display_data"
    }
   ],
   "source": [
    "#Create Plot\n",
    "plt.scatter(weather_df['Latitude'],weather_df['Cloudiness'],edgecolors='black',facecolors='lightblue')\n",
    "\n",
    "#titles and lables\n",
    "plt.title(f'Latitude vs. Cloudiness ({datetime.datetime.now().strftime(\"%D\")})')\n",
    "plt.xlabel('Latitude')\n",
    "plt.ylabel('Cloudiness (%)')\n",
    "plt.grid (b=True,which='major',axis='both',linestyle='-',color='lightgrey')\n",
    "\n",
    "#Save Plot\n",
    "plt.savefig(f\"images/Latitude vs. Cloudiness.png\")"
   ]
  },
  {
   "cell_type": "markdown",
   "metadata": {},
   "source": [
    "### Latitude vs. Wind Speed Plot"
   ]
  },
  {
   "cell_type": "code",
   "execution_count": null,
   "metadata": {},
   "outputs": [],
   "source": [
    "plt.scatter(weather_df[\"Latitude\"],weather_df[\"Wind Speed\"],edgecolors=\"black\",facecolors='b')\n",
    "plt.title(f\"City Latitude vs. Wind Speed\")\n",
    "plt.xlabel(\"Latitude\")\n",
    "plt.ylabel(\"Wind Speed (mph)\")\n",
    "plt.grid (b=True,which='major',axis='both',linestyle='-',color='lightgrey')\n",
    "plt.savefig(f\"City Latitude vs. Wind Speed {title_date}.png\")"
   ]
  },
  {
   "cell_type": "markdown",
   "metadata": {},
   "source": [
    "## Linear Regression"
   ]
  },
  {
   "cell_type": "markdown",
   "metadata": {},
   "source": [
    "### Write linear regression plot function (optional)"
   ]
  },
  {
   "cell_type": "code",
   "execution_count": null,
   "metadata": {},
   "outputs": [],
   "source": [
    "#create hemispheres\n",
    "north_hem = weather_df.loc[weather_df[\"Latitude\"] >= 0]\n",
    "south_hem = weather_df.loc[weather_df[\"Latitude\"] < 0]\n"
   ]
  },
  {
   "cell_type": "code",
   "execution_count": null,
   "metadata": {},
   "outputs": [],
   "source": [
    "# Define function\n",
    "def linear_regression(x,y):\n",
    "    print(f\"The r-squared is : {round(st.pearsonr(x, y)[0],2)}\")\n",
    "    (slope, intercept, rvalue, pvalue, stderr) = linregress(x, y)\n",
    "    regress_values = x * slope + intercept\n",
    "    line_eq = \"y = \" + str(round(slope,2)) + \"x + \" + str(round(intercept,2))\n",
    "    plt.scatter(x, y)\n",
    "    plt.plot(x,regress_values,\"r-\")\n",
    "    return line_eq\n",
    "\n",
    "# Define annotation\n",
    "def annotate(line_eq, a, b):\n",
    "    plt.annotate(line_eq,(a,b),fontsize=15,color=\"orange\")"
   ]
  },
  {
   "cell_type": "markdown",
   "metadata": {},
   "source": [
    "###  Northern Hemisphere - Max Temp vs. Latitude Linear Regression"
   ]
  },
  {
   "cell_type": "code",
   "execution_count": null,
   "metadata": {},
   "outputs": [],
   "source": [
    "#plot variable\n",
    "title_1 = \"Northern Hemisphere - Max Temp vs. Latitude Regression\"\n",
    "\n",
    "#use functions\n",
    "equation = linear_regression(north_hem[\"Latitude\"],north_hem[\"Max Temp\"])\n",
    "annotate(equation, 0, 0)\n",
    "\n",
    "#title and labels\n",
    "plt.title=(f\"{title_1}\")\n",
    "plt.xlabel(\"Latitude\")\n",
    "plt.ylabel(\"Max Temp (F)\")\n",
    "\n",
    "# Save the figure\n",
    "plt.savefig(f\"Images/{title_1}.png\")"
   ]
  },
  {
   "cell_type": "markdown",
   "metadata": {},
   "source": [
    "###  Southern Hemisphere - Max Temp vs. Latitude Linear Regression"
   ]
  },
  {
   "cell_type": "code",
   "execution_count": null,
   "metadata": {},
   "outputs": [],
   "source": [
    "#plot variable\n",
    "title_2 = \"Southern Hemisphere - Max Temp vs. Latitude Regression\"\n",
    "\n",
    "#use functions\n",
    "equation = linear_regression(south_hem[\"Latitude\"],south_hem[\"Max Temp\"])\n",
    "annotate(equation, -30, 50)\n",
    "\n",
    "#title and labels\n",
    "plt.title=(f\"{title_2}\")\n",
    "plt.xlabel(\"Latitude\")\n",
    "plt.ylabel(\"Humidity (%)\")\n",
    "\n",
    "# Save the figure\n",
    "plt.savefig(f\"Images/{title_2}.png\")"
   ]
  },
  {
   "cell_type": "markdown",
   "metadata": {},
   "source": [
    "###  Northern Hemisphere - Humidity (%) vs. Latitude Linear Regression"
   ]
  },
  {
   "cell_type": "code",
   "execution_count": null,
   "metadata": {},
   "outputs": [],
   "source": [
    "#plot variable\n",
    "title_3 = \"Northern Hemisphere - Humidity (%) vs. Latitude Regression\"\n",
    "\n",
    "#use functions\n",
    "equation = linear_regression(north_hem[\"Humidity\"],north_hem[\"Max Temp\"])\n",
    "annotate(equation, 20, 15)\n",
    "\n",
    "#title and labels\n",
    "plt.title=(f\"{title_3}\")\n",
    "plt.xlabel(\"Latitude\")\n",
    "plt.ylabel(\"Humidity (%)\")\n",
    "\n",
    "# Save the figure\n",
    "plt.savefig(f\"Images/{title_3}.png\")"
   ]
  },
  {
   "cell_type": "markdown",
   "metadata": {},
   "source": [
    "###  Southern Hemisphere - Humidity (%) vs. Latitude Linear Regression"
   ]
  },
  {
   "cell_type": "code",
   "execution_count": null,
   "metadata": {},
   "outputs": [],
   "source": [
    "#plot variable\n",
    "title_4 = \"Southern Hemisphere - Humidity (%) vs. Latitude Regression\"\n",
    "\n",
    "#use functions\n",
    "equation = linear_regression(south_hem[\"Humidity\"],south_hem[\"Max Temp\"])\n",
    "annotate(equation, 10, 50)\n",
    "\n",
    "#title and labels\n",
    "plt.title=(f\"{title_4}\")\n",
    "plt.xlabel(\"Latitude\")\n",
    "plt.ylabel(\"Cloudiness (%)\")\n",
    "\n",
    "# Save the figure\n",
    "plt.savefig(f\"Images/{title_4}.png\")"
   ]
  },
  {
   "cell_type": "markdown",
   "metadata": {},
   "source": [
    "###  Northern Hemisphere - Cloudiness (%) vs. Latitude Linear Regression"
   ]
  },
  {
   "cell_type": "code",
   "execution_count": null,
   "metadata": {},
   "outputs": [],
   "source": [
    "#plot variable\n",
    "title_5 = \"Northern Hemisphere - Cloudiness vs. Latitude Regression\"\n",
    "\n",
    "#use functions\n",
    "equation = linear_regression(north_hem[\"Cloudiness\"],north_hem[\"Max Temp\"])\n",
    "annotate(equation, 0, 10)\n",
    "\n",
    "#title and labels\n",
    "plt.title=(f\"{title_5}\")\n",
    "plt.xlabel(\"Latitude\")\n",
    "plt.ylabel(\"Cloudiness (%)\")\n",
    "\n",
    "# Save the figure\n",
    "plt.savefig(f\"Images/{title_5}.png\")"
   ]
  },
  {
   "cell_type": "markdown",
   "metadata": {},
   "source": [
    "###  Southern Hemisphere - Cloudiness (%) vs. Latitude Linear Regression"
   ]
  },
  {
   "cell_type": "code",
   "execution_count": null,
   "metadata": {},
   "outputs": [],
   "source": [
    "#plot variable\n",
    "title_5 = \"Southern Hemisphere - Max Temp vs. Latitude Regression\"\n",
    "\n",
    "#use functions\n",
    "equation = linear_regression(south_hem[\"Cloudiness\"],south_hem[\"Max Temp\"])\n",
    "annotate(equation, 30, 40)\n",
    "\n",
    "#title and labels\n",
    "plt.title=(f\"{title_5}\")\n",
    "plt.xlabel(\"Latitude\")\n",
    "plt.ylabel(\"Cloudiness (%)\")\n",
    "\n",
    "# Save the figure\n",
    "plt.savefig(f\"Images/{title_5}.png\")"
   ]
  },
  {
   "cell_type": "markdown",
   "metadata": {},
   "source": [
    "###  Northern Hemisphere - Wind Speed (mph) vs. Latitude Linear Regression"
   ]
  },
  {
   "cell_type": "code",
   "execution_count": null,
   "metadata": {},
   "outputs": [],
   "source": [
    "#plot variable\n",
    "title_7 = \"Northern Hemisphere - Wind Speed (mph) vs. Latitude Regression\"\n",
    "\n",
    "#use functions\n",
    "equation = linear_regression(north_hem[\"Wind Speed\"],north_hem[\"Max Temp\"])\n",
    "annotate(equation, 0, 0)\n",
    "\n",
    "#title and labels\n",
    "plt.title = (f\"{title_7}\")\n",
    "plt.xlabel(\"Latitude\")\n",
    "plt.ylabel(\"Wind Speed (mph)\")\n",
    "\n",
    "# Save the figure\n",
    "plt.savefig(f\"Images/{title_7}.png\")"
   ]
  },
  {
   "cell_type": "markdown",
   "metadata": {},
   "source": [
    "###  Southern Hemisphere - Wind Speed (mph) vs. Latitude Linear Regression"
   ]
  },
  {
   "cell_type": "code",
   "execution_count": null,
   "metadata": {},
   "outputs": [],
   "source": [
    "#plot variable\n",
    "title_7 = \"Northern Hemisphere - Wind Speed (mph) vs. Latitude Regression\"\n",
    "\n",
    "#use functions\n",
    "equation = linear_regression(north_hem['Wind Speed'],north_hem['Latitude'])\n",
    "annotate(equation, 0, 0)\n",
    "\n",
    "#title and labels\n",
    "plt.title =(f'{title_7} {datetime.datetime.now().strftime(\"%D\")}')\n",
    "plt.xlabel('Wind Speed (mph)')\n",
    "plt.ylabel('Latitude')\n",
    "\n",
    "# Save the figure\n",
    "plt.savefig(f'{title_7} {datetime.datetime.now().strftime(\"%D\")}.png')"
   ]
  },
  {
   "cell_type": "code",
   "execution_count": null,
   "metadata": {},
   "outputs": [],
   "source": []
  },
  {
   "cell_type": "code",
   "execution_count": null,
   "metadata": {},
   "outputs": [],
   "source": []
  }
 ],
 "metadata": {
  "anaconda-cloud": {},
  "kernel_info": {
   "name": "python3"
  },
  "kernelspec": {
   "display_name": "Python 3",
   "language": "python",
   "name": "python3"
  },
  "language_info": {
   "codemirror_mode": {
    "name": "ipython",
    "version": 3
   },
   "file_extension": ".py",
   "mimetype": "text/x-python",
   "name": "python",
   "nbconvert_exporter": "python",
   "pygments_lexer": "ipython3",
   "version": "3.8.5"
  },
  "latex_envs": {
   "LaTeX_envs_menu_present": true,
   "autoclose": false,
   "autocomplete": true,
   "bibliofile": "biblio.bib",
   "cite_by": "apalike",
   "current_citInitial": 1,
   "eqLabelWithNumbers": true,
   "eqNumInitial": 1,
   "hotkeys": {
    "equation": "Ctrl-E",
    "itemize": "Ctrl-I"
   },
   "labels_anchors": false,
   "latex_user_defs": false,
   "report_style_numbering": false,
   "user_envs_cfg": false
  },
  "nteract": {
   "version": "0.12.3"
  },
  "toc": {
   "base_numbering": 1,
   "nav_menu": {},
   "number_sections": true,
   "sideBar": true,
   "skip_h1_title": false,
   "title_cell": "Table of Contents",
   "title_sidebar": "Contents",
   "toc_cell": false,
   "toc_position": {},
   "toc_section_display": true,
   "toc_window_display": false
  },
  "varInspector": {
   "cols": {
    "lenName": 16,
    "lenType": 16,
    "lenVar": 40
   },
   "kernels_config": {
    "python": {
     "delete_cmd_postfix": "",
     "delete_cmd_prefix": "del ",
     "library": "var_list.py",
     "varRefreshCmd": "print(var_dic_list())"
    },
    "r": {
     "delete_cmd_postfix": ") ",
     "delete_cmd_prefix": "rm(",
     "library": "var_list.r",
     "varRefreshCmd": "cat(var_dic_list()) "
    }
   },
   "types_to_exclude": [
    "module",
    "function",
    "builtin_function_or_method",
    "instance",
    "_Feature"
   ],
   "window_display": false
  }
 },
 "nbformat": 4,
 "nbformat_minor": 2
}
